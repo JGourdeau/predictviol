{
 "metadata": {
  "language_info": {
   "codemirror_mode": {
    "name": "ipython",
    "version": 3
   },
   "file_extension": ".py",
   "mimetype": "text/x-python",
   "name": "python",
   "nbconvert_exporter": "python",
   "pygments_lexer": "ipython3",
   "version": "3.8.5"
  },
  "orig_nbformat": 2,
  "kernelspec": {
   "name": "python385jvsc74a57bd08931487ae6aa2a2759a4df1861a2b0a6e316a74e486b9255953d76f5b96e61c4",
   "display_name": "Python 3.8.5 64-bit ('base': conda)"
  }
 },
 "nbformat": 4,
 "nbformat_minor": 2,
 "cells": [
  {
   "cell_type": "code",
   "execution_count": 18,
   "metadata": {},
   "outputs": [],
   "source": [
    "## IMPORTS\n",
    "## helpful packages\n",
    "import pandas as pd\n",
    "import numpy as np\n",
    "import random\n",
    "import re\n",
    "import recordlinkage\n",
    "\n",
    "## repeated printouts\n",
    "from IPython.core.interactiveshell import InteractiveShell\n",
    "InteractiveShell.ast_node_interactivity = \"all\""
   ]
  },
  {
   "cell_type": "code",
   "execution_count": 34,
   "metadata": {},
   "outputs": [
    {
     "output_type": "execute_result",
     "data": {
      "text/plain": [
       "              CASE_NO       DECISION_DATE VISA_CLASS CASE_RECEIVED_DATE  \\\n",
       "0  H-300-17263-482969 2017-10-02 12:46:58       H-2A         2017-09-20   \n",
       "1  H-300-17258-492669 2017-10-02 13:46:39       H-2A         2017-09-15   \n",
       "2  H-300-17240-814010 2017-10-02 15:40:18       H-2A         2017-08-28   \n",
       "3  H-300-17244-028701 2017-10-02 15:52:12       H-2A         2017-09-01   \n",
       "4  H-300-17248-540912 2017-10-02 15:54:55       H-2A         2017-09-05   \n",
       "\n",
       "                                         CASE_STATUS  \\\n",
       "0                   DETERMINATION ISSUED - WITHDRAWN   \n",
       "1               DETERMINATION ISSUED - CERTIFICATION   \n",
       "2       DETERMINATION ISSUED - CERTIFICATION EXPIRED   \n",
       "3       DETERMINATION ISSUED - CERTIFICATION EXPIRED   \n",
       "4  DETERMINATION ISSUED - PARTIAL CERTIFICATION E...   \n",
       "\n",
       "  REQUESTED_START_DATE_OF_NEED REQUESTED_END_DATE_OF_NEED PRIMARY_SUB  \\\n",
       "0                   2017-11-05                 2018-05-31         PRI   \n",
       "1                   2017-12-01                 2018-11-29         PRI   \n",
       "2                   2017-11-01                 2018-07-31         PRI   \n",
       "3                   2017-11-01                 2018-06-15         PRI   \n",
       "4                   2017-10-20                 2018-03-17         PRI   \n",
       "\n",
       "             EMPLOYER_NAME TRADE_NAME_DBA  ... WORKSITE_CITY WORKSITE_COUNTY  \\\n",
       "0    Gulf Harvesting, Inc.            NaN  ...         Felda          Hendry   \n",
       "1  ECOSYSTEM CONCEPTS INC.            NaN  ...         Dixon          Solano   \n",
       "2   FISHER BROTHERS CATTLE            NaN  ...      Anderson          Grimes   \n",
       "3    CIRCLE H CITRUS, INC.            NaN  ...       Arcadia          DeSoto   \n",
       "4      FRESH HARVEST, INC.            NaN  ...         Mecca       Riverside   \n",
       "\n",
       "  WORKSITE_STATE WORKSITE_POSTAL_CODE OTHER_WORKSITE_LOCATION  \\\n",
       "0             FL                33930                       Y   \n",
       "1             CA                95620                       Y   \n",
       "2             TX                77830                       Y   \n",
       "3             FL                34266                       Y   \n",
       "4             CA                92274                       Y   \n",
       "\n",
       "                           ORGANIZATION_FLAG  \\\n",
       "0    H-2A Labor Contractor or Job Contractor   \n",
       "1  Association - Filing as Agent (H-2A Only)   \n",
       "2                        Individual Employer   \n",
       "3    H-2A Labor Contractor or Job Contractor   \n",
       "4    H-2A Labor Contractor or Job Contractor   \n",
       "\n",
       "                                       SWA_NAME JOB_IDNUMBER  JOB_START_DATE  \\\n",
       "0    Florida Department of Economic Opportunity          NaN             NaT   \n",
       "1  California Employment Development Department     15575066      2017-09-26   \n",
       "2                    Texas Workforce Commission    TX6572948      2017-08-23   \n",
       "3            Department of Economic Opportunity   FL10543312      2017-08-25   \n",
       "4                                California EDD     15530682      2017-08-31   \n",
       "\n",
       "  JOB_END_DATE  \n",
       "0          NaT  \n",
       "1   2018-05-31  \n",
       "2   2018-03-17  \n",
       "3   2018-02-22  \n",
       "4   2018-01-02  \n",
       "\n",
       "[5 rows x 62 columns]"
      ],
      "text/html": "<div>\n<style scoped>\n    .dataframe tbody tr th:only-of-type {\n        vertical-align: middle;\n    }\n\n    .dataframe tbody tr th {\n        vertical-align: top;\n    }\n\n    .dataframe thead th {\n        text-align: right;\n    }\n</style>\n<table border=\"1\" class=\"dataframe\">\n  <thead>\n    <tr style=\"text-align: right;\">\n      <th></th>\n      <th>CASE_NO</th>\n      <th>DECISION_DATE</th>\n      <th>VISA_CLASS</th>\n      <th>CASE_RECEIVED_DATE</th>\n      <th>CASE_STATUS</th>\n      <th>REQUESTED_START_DATE_OF_NEED</th>\n      <th>REQUESTED_END_DATE_OF_NEED</th>\n      <th>PRIMARY_SUB</th>\n      <th>EMPLOYER_NAME</th>\n      <th>TRADE_NAME_DBA</th>\n      <th>...</th>\n      <th>WORKSITE_CITY</th>\n      <th>WORKSITE_COUNTY</th>\n      <th>WORKSITE_STATE</th>\n      <th>WORKSITE_POSTAL_CODE</th>\n      <th>OTHER_WORKSITE_LOCATION</th>\n      <th>ORGANIZATION_FLAG</th>\n      <th>SWA_NAME</th>\n      <th>JOB_IDNUMBER</th>\n      <th>JOB_START_DATE</th>\n      <th>JOB_END_DATE</th>\n    </tr>\n  </thead>\n  <tbody>\n    <tr>\n      <th>0</th>\n      <td>H-300-17263-482969</td>\n      <td>2017-10-02 12:46:58</td>\n      <td>H-2A</td>\n      <td>2017-09-20</td>\n      <td>DETERMINATION ISSUED - WITHDRAWN</td>\n      <td>2017-11-05</td>\n      <td>2018-05-31</td>\n      <td>PRI</td>\n      <td>Gulf Harvesting, Inc.</td>\n      <td>NaN</td>\n      <td>...</td>\n      <td>Felda</td>\n      <td>Hendry</td>\n      <td>FL</td>\n      <td>33930</td>\n      <td>Y</td>\n      <td>H-2A Labor Contractor or Job Contractor</td>\n      <td>Florida Department of Economic Opportunity</td>\n      <td>NaN</td>\n      <td>NaT</td>\n      <td>NaT</td>\n    </tr>\n    <tr>\n      <th>1</th>\n      <td>H-300-17258-492669</td>\n      <td>2017-10-02 13:46:39</td>\n      <td>H-2A</td>\n      <td>2017-09-15</td>\n      <td>DETERMINATION ISSUED - CERTIFICATION</td>\n      <td>2017-12-01</td>\n      <td>2018-11-29</td>\n      <td>PRI</td>\n      <td>ECOSYSTEM CONCEPTS INC.</td>\n      <td>NaN</td>\n      <td>...</td>\n      <td>Dixon</td>\n      <td>Solano</td>\n      <td>CA</td>\n      <td>95620</td>\n      <td>Y</td>\n      <td>Association - Filing as Agent (H-2A Only)</td>\n      <td>California Employment Development Department</td>\n      <td>15575066</td>\n      <td>2017-09-26</td>\n      <td>2018-05-31</td>\n    </tr>\n    <tr>\n      <th>2</th>\n      <td>H-300-17240-814010</td>\n      <td>2017-10-02 15:40:18</td>\n      <td>H-2A</td>\n      <td>2017-08-28</td>\n      <td>DETERMINATION ISSUED - CERTIFICATION EXPIRED</td>\n      <td>2017-11-01</td>\n      <td>2018-07-31</td>\n      <td>PRI</td>\n      <td>FISHER BROTHERS CATTLE</td>\n      <td>NaN</td>\n      <td>...</td>\n      <td>Anderson</td>\n      <td>Grimes</td>\n      <td>TX</td>\n      <td>77830</td>\n      <td>Y</td>\n      <td>Individual Employer</td>\n      <td>Texas Workforce Commission</td>\n      <td>TX6572948</td>\n      <td>2017-08-23</td>\n      <td>2018-03-17</td>\n    </tr>\n    <tr>\n      <th>3</th>\n      <td>H-300-17244-028701</td>\n      <td>2017-10-02 15:52:12</td>\n      <td>H-2A</td>\n      <td>2017-09-01</td>\n      <td>DETERMINATION ISSUED - CERTIFICATION EXPIRED</td>\n      <td>2017-11-01</td>\n      <td>2018-06-15</td>\n      <td>PRI</td>\n      <td>CIRCLE H CITRUS, INC.</td>\n      <td>NaN</td>\n      <td>...</td>\n      <td>Arcadia</td>\n      <td>DeSoto</td>\n      <td>FL</td>\n      <td>34266</td>\n      <td>Y</td>\n      <td>H-2A Labor Contractor or Job Contractor</td>\n      <td>Department of Economic Opportunity</td>\n      <td>FL10543312</td>\n      <td>2017-08-25</td>\n      <td>2018-02-22</td>\n    </tr>\n    <tr>\n      <th>4</th>\n      <td>H-300-17248-540912</td>\n      <td>2017-10-02 15:54:55</td>\n      <td>H-2A</td>\n      <td>2017-09-05</td>\n      <td>DETERMINATION ISSUED - PARTIAL CERTIFICATION E...</td>\n      <td>2017-10-20</td>\n      <td>2018-03-17</td>\n      <td>PRI</td>\n      <td>FRESH HARVEST, INC.</td>\n      <td>NaN</td>\n      <td>...</td>\n      <td>Mecca</td>\n      <td>Riverside</td>\n      <td>CA</td>\n      <td>92274</td>\n      <td>Y</td>\n      <td>H-2A Labor Contractor or Job Contractor</td>\n      <td>California EDD</td>\n      <td>15530682</td>\n      <td>2017-08-31</td>\n      <td>2018-01-02</td>\n    </tr>\n  </tbody>\n</table>\n<p>5 rows × 62 columns</p>\n</div>"
     },
     "metadata": {},
     "execution_count": 34
    },
    {
     "output_type": "stream",
     "name": "stdout",
     "text": [
      "raw dataframe has 110 columns and 313928 rows\n"
     ]
    },
    {
     "output_type": "execute_result",
     "data": {
      "text/plain": [
       "   case_id                                      trade_nm  \\\n",
       "0  1428484                                Reliant Energy   \n",
       "1  1784005  Healthcare Services Group at Westwood Center   \n",
       "2  1460300                         Central Avenue Bakery   \n",
       "3  1294821                            Gallagher Services   \n",
       "4  1437099                  Dragon Dynasty Oriental Mart   \n",
       "\n",
       "                            legal_name            street_addr_1_txt  \\\n",
       "0  Reliant Energy Retail Services, LLC                    1000 Main   \n",
       "1      Healthcare Services Group, Inc.              298 Main Street   \n",
       "2          Central Avenue Bakery, Inc.           679 Central Avenue   \n",
       "3                   Catholic Cherities         2520 Pot Spring Road   \n",
       "4                                  NaN  2299 South Ridgewood Avenue   \n",
       "\n",
       "                 cty_nm st_cd   zip_cd naic_cd  \\\n",
       "0               Houston    TX  77002.0   09310   \n",
       "1                 Keene    NH   3431.0    0967   \n",
       "2             Pawtucket    RI   2861.0  311811   \n",
       "3  Lutherville Timonium    MD  21093.0   09690   \n",
       "4         Daytona Beach    FL  32119.0   42449   \n",
       "\n",
       "                              naics_code_description  case_violtn_cnt  ...  \\\n",
       "0  State Generation and Distribution of Electric ...                0  ...   \n",
       "1                                Local Nursing Homes                1  ...   \n",
       "2                                    Retail Bakeries                4  ...   \n",
       "3  Local Group Homes for Mentally and Physically ...                0  ...   \n",
       "4  Other Grocery and Related Products Merchant Wh...                0  ...   \n",
       "\n",
       "   flsa_smwsl_bw_atp_amt  flsa_smwsl_ee_atp_cnt  eev_violtn_cnt  \\\n",
       "0                    0.0                      0               0   \n",
       "1                    0.0                      0               0   \n",
       "2                    0.0                      0               0   \n",
       "3                    0.0                      0               0   \n",
       "4                    0.0                      0               0   \n",
       "\n",
       "   h2b_violtn_cnt h2b_bw_atp_amt h2b_ee_atp_cnt  sraw_violtn_cnt  \\\n",
       "0               0            0.0              0                0   \n",
       "1               0            0.0              0                0   \n",
       "2               0            0.0              0                0   \n",
       "3               0            0.0              0                0   \n",
       "4               0            0.0              0                0   \n",
       "\n",
       "  sraw_bw_atp_amt  sraw_ee_atp_cnt                    ld_dt  \n",
       "0             0.0                0  2015-02-20 01:00:06 EST  \n",
       "1             0.0                0  2016-06-11 02:22:25 EDT  \n",
       "2             0.0                0  2015-02-20 01:00:06 EST  \n",
       "3             0.0                0  2015-02-20 01:00:06 EST  \n",
       "4             0.0                0  2015-02-20 01:00:06 EST  \n",
       "\n",
       "[5 rows x 110 columns]"
      ],
      "text/html": "<div>\n<style scoped>\n    .dataframe tbody tr th:only-of-type {\n        vertical-align: middle;\n    }\n\n    .dataframe tbody tr th {\n        vertical-align: top;\n    }\n\n    .dataframe thead th {\n        text-align: right;\n    }\n</style>\n<table border=\"1\" class=\"dataframe\">\n  <thead>\n    <tr style=\"text-align: right;\">\n      <th></th>\n      <th>case_id</th>\n      <th>trade_nm</th>\n      <th>legal_name</th>\n      <th>street_addr_1_txt</th>\n      <th>cty_nm</th>\n      <th>st_cd</th>\n      <th>zip_cd</th>\n      <th>naic_cd</th>\n      <th>naics_code_description</th>\n      <th>case_violtn_cnt</th>\n      <th>...</th>\n      <th>flsa_smwsl_bw_atp_amt</th>\n      <th>flsa_smwsl_ee_atp_cnt</th>\n      <th>eev_violtn_cnt</th>\n      <th>h2b_violtn_cnt</th>\n      <th>h2b_bw_atp_amt</th>\n      <th>h2b_ee_atp_cnt</th>\n      <th>sraw_violtn_cnt</th>\n      <th>sraw_bw_atp_amt</th>\n      <th>sraw_ee_atp_cnt</th>\n      <th>ld_dt</th>\n    </tr>\n  </thead>\n  <tbody>\n    <tr>\n      <th>0</th>\n      <td>1428484</td>\n      <td>Reliant Energy</td>\n      <td>Reliant Energy Retail Services, LLC</td>\n      <td>1000 Main</td>\n      <td>Houston</td>\n      <td>TX</td>\n      <td>77002.0</td>\n      <td>09310</td>\n      <td>State Generation and Distribution of Electric ...</td>\n      <td>0</td>\n      <td>...</td>\n      <td>0.0</td>\n      <td>0</td>\n      <td>0</td>\n      <td>0</td>\n      <td>0.0</td>\n      <td>0</td>\n      <td>0</td>\n      <td>0.0</td>\n      <td>0</td>\n      <td>2015-02-20 01:00:06 EST</td>\n    </tr>\n    <tr>\n      <th>1</th>\n      <td>1784005</td>\n      <td>Healthcare Services Group at Westwood Center</td>\n      <td>Healthcare Services Group, Inc.</td>\n      <td>298 Main Street</td>\n      <td>Keene</td>\n      <td>NH</td>\n      <td>3431.0</td>\n      <td>0967</td>\n      <td>Local Nursing Homes</td>\n      <td>1</td>\n      <td>...</td>\n      <td>0.0</td>\n      <td>0</td>\n      <td>0</td>\n      <td>0</td>\n      <td>0.0</td>\n      <td>0</td>\n      <td>0</td>\n      <td>0.0</td>\n      <td>0</td>\n      <td>2016-06-11 02:22:25 EDT</td>\n    </tr>\n    <tr>\n      <th>2</th>\n      <td>1460300</td>\n      <td>Central Avenue Bakery</td>\n      <td>Central Avenue Bakery, Inc.</td>\n      <td>679 Central Avenue</td>\n      <td>Pawtucket</td>\n      <td>RI</td>\n      <td>2861.0</td>\n      <td>311811</td>\n      <td>Retail Bakeries</td>\n      <td>4</td>\n      <td>...</td>\n      <td>0.0</td>\n      <td>0</td>\n      <td>0</td>\n      <td>0</td>\n      <td>0.0</td>\n      <td>0</td>\n      <td>0</td>\n      <td>0.0</td>\n      <td>0</td>\n      <td>2015-02-20 01:00:06 EST</td>\n    </tr>\n    <tr>\n      <th>3</th>\n      <td>1294821</td>\n      <td>Gallagher Services</td>\n      <td>Catholic Cherities</td>\n      <td>2520 Pot Spring Road</td>\n      <td>Lutherville Timonium</td>\n      <td>MD</td>\n      <td>21093.0</td>\n      <td>09690</td>\n      <td>Local Group Homes for Mentally and Physically ...</td>\n      <td>0</td>\n      <td>...</td>\n      <td>0.0</td>\n      <td>0</td>\n      <td>0</td>\n      <td>0</td>\n      <td>0.0</td>\n      <td>0</td>\n      <td>0</td>\n      <td>0.0</td>\n      <td>0</td>\n      <td>2015-02-20 01:00:06 EST</td>\n    </tr>\n    <tr>\n      <th>4</th>\n      <td>1437099</td>\n      <td>Dragon Dynasty Oriental Mart</td>\n      <td>NaN</td>\n      <td>2299 South Ridgewood Avenue</td>\n      <td>Daytona Beach</td>\n      <td>FL</td>\n      <td>32119.0</td>\n      <td>42449</td>\n      <td>Other Grocery and Related Products Merchant Wh...</td>\n      <td>0</td>\n      <td>...</td>\n      <td>0.0</td>\n      <td>0</td>\n      <td>0</td>\n      <td>0</td>\n      <td>0.0</td>\n      <td>0</td>\n      <td>0</td>\n      <td>0.0</td>\n      <td>0</td>\n      <td>2015-02-20 01:00:06 EST</td>\n    </tr>\n  </tbody>\n</table>\n<p>5 rows × 110 columns</p>\n</div>"
     },
     "metadata": {},
     "execution_count": 34
    }
   ],
   "source": [
    "h2a = pd.read_excel(\"./my_data/h2a_2018.xlsx\")\n",
    "h2a.head()\n",
    "\n",
    "url = \"https://enfxfr.dol.gov/data_catalog/WHD/whd_whisard_20210415.csv.zip\"\n",
    "raw_dol = pd.read_csv(url, \n",
    "                      index_col=None,\n",
    "                      dtype={7:'string'})\n",
    "raw_dol['findings_start_date'] = pd.to_datetime(raw_dol['findings_start_date'], errors='coerce')\n",
    "raw_dol['findings_end_date'] = pd.to_datetime(raw_dol['findings_end_date'], errors='coerce')\n",
    "print(f'raw dataframe has {len(raw_dol.columns)} columns and {len(raw_dol)} rows')\n",
    "raw_dol.head(5)"
   ]
  },
  {
   "cell_type": "code",
   "execution_count": 37,
   "metadata": {
    "tags": []
   },
   "outputs": [
    {
     "output_type": "execute_result",
     "data": {
      "text/plain": [
       "CERTIFICATION                    11792\n",
       "CERTIFICATION EXPIRED             1994\n",
       "PARTIAL CERTIFICATION              235\n",
       "WITHDRAWN                          221\n",
       "DENIED                             165\n",
       "PARTIAL CERTIFICATION EXPIRED       45\n",
       "Name: status, dtype: int64"
      ]
     },
     "metadata": {},
     "execution_count": 37
    },
    {
     "output_type": "execute_result",
     "data": {
      "text/plain": [
       "               CASE_NO       DECISION_DATE VISA_CLASS CASE_RECEIVED_DATE  \\\n",
       "1   H-300-17258-492669 2017-10-02 13:46:39       H-2A         2017-09-15   \n",
       "11  H-300-17257-446860 2017-10-02 16:36:19       H-2A         2017-09-14   \n",
       "12  H-300-17257-446860 2017-10-02 16:36:19       H-2A         2017-09-14   \n",
       "13  H-300-17262-816860 2017-10-02 16:44:54       H-2A         2017-09-19   \n",
       "19  H-300-17256-339375 2017-10-03 13:28:16       H-2A         2017-09-13   \n",
       "\n",
       "                             CASE_STATUS REQUESTED_START_DATE_OF_NEED  \\\n",
       "1   DETERMINATION ISSUED - CERTIFICATION                   2017-12-01   \n",
       "11  DETERMINATION ISSUED - CERTIFICATION                   2017-12-08   \n",
       "12  DETERMINATION ISSUED - CERTIFICATION                   2017-12-08   \n",
       "13  DETERMINATION ISSUED - CERTIFICATION                   2018-01-01   \n",
       "19  DETERMINATION ISSUED - CERTIFICATION                   2017-12-08   \n",
       "\n",
       "   REQUESTED_END_DATE_OF_NEED PRIMARY_SUB              EMPLOYER_NAME  \\\n",
       "1                  2018-11-29         PRI    ECOSYSTEM CONCEPTS INC.   \n",
       "11                 2018-12-06         PRI  WESTERN RANGE ASSOCIATION   \n",
       "12                 2018-12-06         SUB          SHEEP COMPANY LLC   \n",
       "13                 2018-12-30         PRI           Sieben Ranch Co.   \n",
       "19                 2018-12-06         PRI  WESTERN RANGE ASSOCIATION   \n",
       "\n",
       "   TRADE_NAME_DBA  ... WORKSITE_COUNTY WORKSITE_STATE WORKSITE_POSTAL_CODE  \\\n",
       "1             NaN  ...          Solano             CA                95620   \n",
       "11            NaN  ...          FRESNO             CA                93210   \n",
       "12            NaN  ...          FRESNO             CA                93210   \n",
       "13            NaN  ...   Lewis & Clark             MT                59648   \n",
       "19            NaN  ...          MOFFAT             CO                81625   \n",
       "\n",
       "   OTHER_WORKSITE_LOCATION                          ORGANIZATION_FLAG  \\\n",
       "1                        Y  Association - Filing as Agent (H-2A Only)   \n",
       "11                       Y   Association - Joint Employer (H-2A Only)   \n",
       "12                       Y                                        NaN   \n",
       "13                       Y  Association - Filing as Agent (H-2A Only)   \n",
       "19                       Y   Association - Joint Employer (H-2A Only)   \n",
       "\n",
       "                                        SWA_NAME JOB_IDNUMBER JOB_START_DATE  \\\n",
       "1   California Employment Development Department     15575066     2017-09-26   \n",
       "11  California Employment Development Department     15567271     2017-09-20   \n",
       "12  California Employment Development Department     15567271     2017-09-20   \n",
       "13                       Montana State Workforce     10316116     2017-09-21   \n",
       "19     Colorado Department of Labor & Employment   CO 7136889     2017-09-15   \n",
       "\n",
       "    JOB_END_DATE         status  \n",
       "1     2018-05-31  CERTIFICATION  \n",
       "11    2018-06-07  CERTIFICATION  \n",
       "12    2018-06-07  CERTIFICATION  \n",
       "13    2018-06-29  CERTIFICATION  \n",
       "19    2018-06-08  CERTIFICATION  \n",
       "\n",
       "[5 rows x 63 columns]"
      ],
      "text/html": "<div>\n<style scoped>\n    .dataframe tbody tr th:only-of-type {\n        vertical-align: middle;\n    }\n\n    .dataframe tbody tr th {\n        vertical-align: top;\n    }\n\n    .dataframe thead th {\n        text-align: right;\n    }\n</style>\n<table border=\"1\" class=\"dataframe\">\n  <thead>\n    <tr style=\"text-align: right;\">\n      <th></th>\n      <th>CASE_NO</th>\n      <th>DECISION_DATE</th>\n      <th>VISA_CLASS</th>\n      <th>CASE_RECEIVED_DATE</th>\n      <th>CASE_STATUS</th>\n      <th>REQUESTED_START_DATE_OF_NEED</th>\n      <th>REQUESTED_END_DATE_OF_NEED</th>\n      <th>PRIMARY_SUB</th>\n      <th>EMPLOYER_NAME</th>\n      <th>TRADE_NAME_DBA</th>\n      <th>...</th>\n      <th>WORKSITE_COUNTY</th>\n      <th>WORKSITE_STATE</th>\n      <th>WORKSITE_POSTAL_CODE</th>\n      <th>OTHER_WORKSITE_LOCATION</th>\n      <th>ORGANIZATION_FLAG</th>\n      <th>SWA_NAME</th>\n      <th>JOB_IDNUMBER</th>\n      <th>JOB_START_DATE</th>\n      <th>JOB_END_DATE</th>\n      <th>status</th>\n    </tr>\n  </thead>\n  <tbody>\n    <tr>\n      <th>1</th>\n      <td>H-300-17258-492669</td>\n      <td>2017-10-02 13:46:39</td>\n      <td>H-2A</td>\n      <td>2017-09-15</td>\n      <td>DETERMINATION ISSUED - CERTIFICATION</td>\n      <td>2017-12-01</td>\n      <td>2018-11-29</td>\n      <td>PRI</td>\n      <td>ECOSYSTEM CONCEPTS INC.</td>\n      <td>NaN</td>\n      <td>...</td>\n      <td>Solano</td>\n      <td>CA</td>\n      <td>95620</td>\n      <td>Y</td>\n      <td>Association - Filing as Agent (H-2A Only)</td>\n      <td>California Employment Development Department</td>\n      <td>15575066</td>\n      <td>2017-09-26</td>\n      <td>2018-05-31</td>\n      <td>CERTIFICATION</td>\n    </tr>\n    <tr>\n      <th>11</th>\n      <td>H-300-17257-446860</td>\n      <td>2017-10-02 16:36:19</td>\n      <td>H-2A</td>\n      <td>2017-09-14</td>\n      <td>DETERMINATION ISSUED - CERTIFICATION</td>\n      <td>2017-12-08</td>\n      <td>2018-12-06</td>\n      <td>PRI</td>\n      <td>WESTERN RANGE ASSOCIATION</td>\n      <td>NaN</td>\n      <td>...</td>\n      <td>FRESNO</td>\n      <td>CA</td>\n      <td>93210</td>\n      <td>Y</td>\n      <td>Association - Joint Employer (H-2A Only)</td>\n      <td>California Employment Development Department</td>\n      <td>15567271</td>\n      <td>2017-09-20</td>\n      <td>2018-06-07</td>\n      <td>CERTIFICATION</td>\n    </tr>\n    <tr>\n      <th>12</th>\n      <td>H-300-17257-446860</td>\n      <td>2017-10-02 16:36:19</td>\n      <td>H-2A</td>\n      <td>2017-09-14</td>\n      <td>DETERMINATION ISSUED - CERTIFICATION</td>\n      <td>2017-12-08</td>\n      <td>2018-12-06</td>\n      <td>SUB</td>\n      <td>SHEEP COMPANY LLC</td>\n      <td>NaN</td>\n      <td>...</td>\n      <td>FRESNO</td>\n      <td>CA</td>\n      <td>93210</td>\n      <td>Y</td>\n      <td>NaN</td>\n      <td>California Employment Development Department</td>\n      <td>15567271</td>\n      <td>2017-09-20</td>\n      <td>2018-06-07</td>\n      <td>CERTIFICATION</td>\n    </tr>\n    <tr>\n      <th>13</th>\n      <td>H-300-17262-816860</td>\n      <td>2017-10-02 16:44:54</td>\n      <td>H-2A</td>\n      <td>2017-09-19</td>\n      <td>DETERMINATION ISSUED - CERTIFICATION</td>\n      <td>2018-01-01</td>\n      <td>2018-12-30</td>\n      <td>PRI</td>\n      <td>Sieben Ranch Co.</td>\n      <td>NaN</td>\n      <td>...</td>\n      <td>Lewis &amp; Clark</td>\n      <td>MT</td>\n      <td>59648</td>\n      <td>Y</td>\n      <td>Association - Filing as Agent (H-2A Only)</td>\n      <td>Montana State Workforce</td>\n      <td>10316116</td>\n      <td>2017-09-21</td>\n      <td>2018-06-29</td>\n      <td>CERTIFICATION</td>\n    </tr>\n    <tr>\n      <th>19</th>\n      <td>H-300-17256-339375</td>\n      <td>2017-10-03 13:28:16</td>\n      <td>H-2A</td>\n      <td>2017-09-13</td>\n      <td>DETERMINATION ISSUED - CERTIFICATION</td>\n      <td>2017-12-08</td>\n      <td>2018-12-06</td>\n      <td>PRI</td>\n      <td>WESTERN RANGE ASSOCIATION</td>\n      <td>NaN</td>\n      <td>...</td>\n      <td>MOFFAT</td>\n      <td>CO</td>\n      <td>81625</td>\n      <td>Y</td>\n      <td>Association - Joint Employer (H-2A Only)</td>\n      <td>Colorado Department of Labor &amp; Employment</td>\n      <td>CO 7136889</td>\n      <td>2017-09-15</td>\n      <td>2018-06-08</td>\n      <td>CERTIFICATION</td>\n    </tr>\n  </tbody>\n</table>\n<p>5 rows × 63 columns</p>\n</div>"
     },
     "metadata": {},
     "execution_count": 37
    },
    {
     "output_type": "execute_result",
     "data": {
      "text/plain": [
       "(12027, 63)"
      ]
     },
     "metadata": {},
     "execution_count": 37
    },
    {
     "output_type": "execute_result",
     "data": {
      "text/plain": [
       "12027"
      ]
     },
     "metadata": {},
     "execution_count": 37
    }
   ],
   "source": [
    "def find_status(one):\n",
    "    string_version = str(one)\n",
    "    pattern = r'\\-\\s(.*)$'\n",
    "    found = re.findall(pattern, string_version)\n",
    "    return found[0]\n",
    "h2a[\"status\"] = [find_status(one) for one in h2a.CASE_STATUS]\n",
    "h2a.status.value_counts()\n",
    "approved_only = h2a.loc[((h2a.status == \"CERTIFICATION\") | (h2a.status == \"PARTIAL CERTIFICATION\")),:].copy()\n",
    "approved_only.head()\n",
    "approved_only.shape\n",
    "approved_only.EMPLOYER_NAME.value_counts()"
   ]
  },
  {
   "cell_type": "code",
   "execution_count": null,
   "metadata": {},
   "outputs": [],
   "source": []
  }
 ]
}