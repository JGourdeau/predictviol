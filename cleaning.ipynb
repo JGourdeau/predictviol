{
 "metadata": {
  "language_info": {
   "codemirror_mode": {
    "name": "ipython",
    "version": 3
   },
   "file_extension": ".py",
   "mimetype": "text/x-python",
   "name": "python",
   "nbconvert_exporter": "python",
   "pygments_lexer": "ipython3",
   "version": "3.8.5"
  },
  "orig_nbformat": 2,
  "kernelspec": {
   "name": "python385jvsc74a57bd08931487ae6aa2a2759a4df1861a2b0a6e316a74e486b9255953d76f5b96e61c4",
   "display_name": "Python 3.8.5 64-bit ('base': conda)"
  }
 },
 "nbformat": 4,
 "nbformat_minor": 2,
 "cells": [
  {
   "cell_type": "code",
   "execution_count": 25,
   "metadata": {},
   "outputs": [],
   "source": [
    "## IMPORTS\n",
    "## helpful packages\n",
    "import pandas as pd\n",
    "import numpy as np\n",
    "import random\n",
    "import re\n",
    "import recordlinkage\n",
    "\n",
    "## repeated printouts\n",
    "from IPython.core.interactiveshell import InteractiveShell\n",
    "InteractiveShell.ast_node_interactivity = \"all\""
   ]
  },
  {
   "cell_type": "code",
   "execution_count": 26,
   "metadata": {},
   "outputs": [],
   "source": [
    "## load in h2a data\n",
    "h2a = pd.read_excel(\"./my_data/h2a_2018.xlsx\")\n",
    "\n",
    "## load in investigations/violations data\n",
    "url = \"https://enfxfr.dol.gov/data_catalog/WHD/whd_whisard_20210415.csv.zip\"\n",
    "investigations = pd.read_csv(url, \n",
    "                      index_col=None,\n",
    "                      dtype={7:'string'})\n",
    "\n",
    "## convert the dates to datetime objects\n",
    "investigations['findings_start_date'] = pd.to_datetime(investigations['findings_start_date'], errors='coerce')\n",
    "investigations['findings_end_date'] = pd.to_datetime(investigations['findings_end_date'], errors = \"coerce\")"
   ]
  },
  {
   "cell_type": "code",
   "execution_count": 27,
   "metadata": {
    "tags": []
   },
   "outputs": [],
   "source": [
    "## this function will pull out the certification status from a given h2a application\n",
    "def find_status(one):\n",
    "    string_version = str(one)                    ## convert to string\n",
    "    pattern = r'\\-\\s(.*)$'                       ## define regex pattern\n",
    "    found = re.findall(pattern, string_version)  ## search for pattern and return what's found\n",
    "    return found[0]\n",
    "\n",
    "h2a[\"status\"] = [find_status(one) for one in h2a.CASE_STATUS]   ## put the status in a new column\n",
    "\n",
    "## filter to applications that have received certification or partial certification\n",
    "approved_only = h2a.loc[((h2a.status == \"CERTIFICATION\") | (h2a.status == \"PARTIAL CERTIFICATION\")),:].copy()"
   ]
  },
  {
   "cell_type": "code",
   "execution_count": 28,
   "metadata": {},
   "outputs": [
    {
     "output_type": "execute_result",
     "data": {
      "text/plain": [
       "                        EMPLOYER_NAME                        legal_name  \\\n",
       "0                       Sandy Webster                     Sandy Webster   \n",
       "1                       Warren Bailey                     Warren Bailey   \n",
       "2              Grand Louis Four, Inc.            Grand Louis Four, Inc.   \n",
       "3                        Justin Jonas                      Justin Jonas   \n",
       "4    Olson's Greenhouse Gardens, Inc.  Olson's Greenhouse Gardens, Inc.   \n",
       "..                                ...                               ...   \n",
       "993                    KCK Farms, LLC                    KCK Farms, LLC   \n",
       "994              JFT Harvesting, Inc.              JFT Harvesting, Inc.   \n",
       "995          Farmers Gin Company, LLC          Farmers Gin Company, LLC   \n",
       "998                  Gustavo Cisneros                  Gustavo Cisneros   \n",
       "999                   Twin Acres, LLC                   Twin Acres, LLC   \n",
       "\n",
       "                              CASE_STATUS  \n",
       "0    DETERMINATION ISSUED - CERTIFICATION  \n",
       "1    DETERMINATION ISSUED - CERTIFICATION  \n",
       "2    DETERMINATION ISSUED - CERTIFICATION  \n",
       "3    DETERMINATION ISSUED - CERTIFICATION  \n",
       "4    DETERMINATION ISSUED - CERTIFICATION  \n",
       "..                                    ...  \n",
       "993  DETERMINATION ISSUED - CERTIFICATION  \n",
       "994  DETERMINATION ISSUED - CERTIFICATION  \n",
       "995  DETERMINATION ISSUED - CERTIFICATION  \n",
       "998  DETERMINATION ISSUED - CERTIFICATION  \n",
       "999  DETERMINATION ISSUED - CERTIFICATION  \n",
       "\n",
       "[498 rows x 3 columns]"
      ],
      "text/html": "<div>\n<style scoped>\n    .dataframe tbody tr th:only-of-type {\n        vertical-align: middle;\n    }\n\n    .dataframe tbody tr th {\n        vertical-align: top;\n    }\n\n    .dataframe thead th {\n        text-align: right;\n    }\n</style>\n<table border=\"1\" class=\"dataframe\">\n  <thead>\n    <tr style=\"text-align: right;\">\n      <th></th>\n      <th>EMPLOYER_NAME</th>\n      <th>legal_name</th>\n      <th>CASE_STATUS</th>\n    </tr>\n  </thead>\n  <tbody>\n    <tr>\n      <th>0</th>\n      <td>Sandy Webster</td>\n      <td>Sandy Webster</td>\n      <td>DETERMINATION ISSUED - CERTIFICATION</td>\n    </tr>\n    <tr>\n      <th>1</th>\n      <td>Warren Bailey</td>\n      <td>Warren Bailey</td>\n      <td>DETERMINATION ISSUED - CERTIFICATION</td>\n    </tr>\n    <tr>\n      <th>2</th>\n      <td>Grand Louis Four, Inc.</td>\n      <td>Grand Louis Four, Inc.</td>\n      <td>DETERMINATION ISSUED - CERTIFICATION</td>\n    </tr>\n    <tr>\n      <th>3</th>\n      <td>Justin Jonas</td>\n      <td>Justin Jonas</td>\n      <td>DETERMINATION ISSUED - CERTIFICATION</td>\n    </tr>\n    <tr>\n      <th>4</th>\n      <td>Olson's Greenhouse Gardens, Inc.</td>\n      <td>Olson's Greenhouse Gardens, Inc.</td>\n      <td>DETERMINATION ISSUED - CERTIFICATION</td>\n    </tr>\n    <tr>\n      <th>...</th>\n      <td>...</td>\n      <td>...</td>\n      <td>...</td>\n    </tr>\n    <tr>\n      <th>993</th>\n      <td>KCK Farms, LLC</td>\n      <td>KCK Farms, LLC</td>\n      <td>DETERMINATION ISSUED - CERTIFICATION</td>\n    </tr>\n    <tr>\n      <th>994</th>\n      <td>JFT Harvesting, Inc.</td>\n      <td>JFT Harvesting, Inc.</td>\n      <td>DETERMINATION ISSUED - CERTIFICATION</td>\n    </tr>\n    <tr>\n      <th>995</th>\n      <td>Farmers Gin Company, LLC</td>\n      <td>Farmers Gin Company, LLC</td>\n      <td>DETERMINATION ISSUED - CERTIFICATION</td>\n    </tr>\n    <tr>\n      <th>998</th>\n      <td>Gustavo Cisneros</td>\n      <td>Gustavo Cisneros</td>\n      <td>DETERMINATION ISSUED - CERTIFICATION</td>\n    </tr>\n    <tr>\n      <th>999</th>\n      <td>Twin Acres, LLC</td>\n      <td>Twin Acres, LLC</td>\n      <td>DETERMINATION ISSUED - CERTIFICATION</td>\n    </tr>\n  </tbody>\n</table>\n<p>498 rows × 3 columns</p>\n</div>"
     },
     "metadata": {},
     "execution_count": 28
    }
   ],
   "source": [
    "## try an exact merge to see if there are any exact matches\n",
    "## print out a version without duplicate entries (just for visualization for this part)\n",
    "merge_attempt = pd.merge(approved_only, investigations, how = \"inner\", left_on = \"EMPLOYER_NAME\", right_on = \"legal_name\", indicator = \"name_merge_status\") \n",
    "without_dups = merge_attempt[[\"EMPLOYER_NAME\", \"legal_name\",\"CASE_STATUS\"]].drop_duplicates()\n",
    "without_dups"
   ]
  },
  {
   "cell_type": "code",
   "execution_count": 29,
   "metadata": {},
   "outputs": [],
   "source": [
    "## this function will clean the EMPLOYER_NAME in approved_only (h2a apps) and legal_name in violations (WHD data)\n",
    "def clean_names(one):\n",
    "    string_version = str(one)               ## convert to string\n",
    "    upper_only = string_version.upper()     ## convert to uppercase\n",
    "    pattern = r\"(LLC|CO|INC)\\.\"             ## locate the LLC, CO, or INC that are followed by a period\n",
    "    replacement = r'\\1'                     ## replace the whole pattern with the LLC/CO/INC component \n",
    "    res = re.sub(pattern, replacement, upper_only)  ## compute and return the result\n",
    "    return res\n",
    "\n",
    "## make new \"name\" columns for the cleaned versions of the names\n",
    "approved_only[\"name\"] = [clean_names(one) for one in approved_only.EMPLOYER_NAME]\n",
    "investigations[\"name\"] = [clean_names(one) for one in investigations.legal_name]\n",
    "investigations_cleaned = investigations.loc[investigations.name != \"NAN\",:].copy()      ## get rid of NAN names"
   ]
  },
  {
   "cell_type": "code",
   "execution_count": 30,
   "metadata": {},
   "outputs": [
    {
     "output_type": "execute_result",
     "data": {
      "text/plain": [
       "                                                name  h2a_violtn_cnt\n",
       "0                RELIANT ENERGY RETAIL SERVICES, LLC               0\n",
       "1                     HEALTHCARE SERVICES GROUP, INC               0\n",
       "2                         CENTRAL AVENUE BAKERY, INC               0\n",
       "3                                 CATHOLIC CHERITIES               0\n",
       "5                                   DERRICK PLUMBING               0\n",
       "...                                              ...             ...\n",
       "313922  EL TAPATIO MEXICAN RESTAURANT(LA FINCA, INC)               0\n",
       "313923                                WEST FLEET INC               0\n",
       "313924                           NESBITT FRUIT FARMS               1\n",
       "313925                                    MOTOS, INC               0\n",
       "313926          HIGHLAND LAKES FURNITURE CENTER, INC               0\n",
       "\n",
       "[310719 rows x 2 columns]"
      ],
      "text/html": "<div>\n<style scoped>\n    .dataframe tbody tr th:only-of-type {\n        vertical-align: middle;\n    }\n\n    .dataframe tbody tr th {\n        vertical-align: top;\n    }\n\n    .dataframe thead th {\n        text-align: right;\n    }\n</style>\n<table border=\"1\" class=\"dataframe\">\n  <thead>\n    <tr style=\"text-align: right;\">\n      <th></th>\n      <th>name</th>\n      <th>h2a_violtn_cnt</th>\n    </tr>\n  </thead>\n  <tbody>\n    <tr>\n      <th>0</th>\n      <td>RELIANT ENERGY RETAIL SERVICES, LLC</td>\n      <td>0</td>\n    </tr>\n    <tr>\n      <th>1</th>\n      <td>HEALTHCARE SERVICES GROUP, INC</td>\n      <td>0</td>\n    </tr>\n    <tr>\n      <th>2</th>\n      <td>CENTRAL AVENUE BAKERY, INC</td>\n      <td>0</td>\n    </tr>\n    <tr>\n      <th>3</th>\n      <td>CATHOLIC CHERITIES</td>\n      <td>0</td>\n    </tr>\n    <tr>\n      <th>5</th>\n      <td>DERRICK PLUMBING</td>\n      <td>0</td>\n    </tr>\n    <tr>\n      <th>...</th>\n      <td>...</td>\n      <td>...</td>\n    </tr>\n    <tr>\n      <th>313922</th>\n      <td>EL TAPATIO MEXICAN RESTAURANT(LA FINCA, INC)</td>\n      <td>0</td>\n    </tr>\n    <tr>\n      <th>313923</th>\n      <td>WEST FLEET INC</td>\n      <td>0</td>\n    </tr>\n    <tr>\n      <th>313924</th>\n      <td>NESBITT FRUIT FARMS</td>\n      <td>1</td>\n    </tr>\n    <tr>\n      <th>313925</th>\n      <td>MOTOS, INC</td>\n      <td>0</td>\n    </tr>\n    <tr>\n      <th>313926</th>\n      <td>HIGHLAND LAKES FURNITURE CENTER, INC</td>\n      <td>0</td>\n    </tr>\n  </tbody>\n</table>\n<p>310719 rows × 2 columns</p>\n</div>"
     },
     "metadata": {},
     "execution_count": 30
    },
    {
     "output_type": "execute_result",
     "data": {
      "text/plain": [
       "                                     name  h2a_violtn_cnt\n",
       "72                   GLADES PLANTING, LLC               2\n",
       "158            KINDERHOOK CREEK FARM, INC               9\n",
       "174     BACK FORTY BLUEBERRY NURSERY, LLC               7\n",
       "569               GISI PHEASANT FARM, INC              40\n",
       "910                     COTTON HOPE FARMS              36\n",
       "...                                   ...             ...\n",
       "313892         CLARK BROTHERS NURSERY LLC               4\n",
       "313894     FEENEY'S WHOLESALE NURSERY INC              10\n",
       "313896                 BLOOMAKER USA, INC              52\n",
       "313911                   AURORA FARMS LLC               2\n",
       "313924                NESBITT FRUIT FARMS               1\n",
       "\n",
       "[3525 rows x 2 columns]"
      ],
      "text/html": "<div>\n<style scoped>\n    .dataframe tbody tr th:only-of-type {\n        vertical-align: middle;\n    }\n\n    .dataframe tbody tr th {\n        vertical-align: top;\n    }\n\n    .dataframe thead th {\n        text-align: right;\n    }\n</style>\n<table border=\"1\" class=\"dataframe\">\n  <thead>\n    <tr style=\"text-align: right;\">\n      <th></th>\n      <th>name</th>\n      <th>h2a_violtn_cnt</th>\n    </tr>\n  </thead>\n  <tbody>\n    <tr>\n      <th>72</th>\n      <td>GLADES PLANTING, LLC</td>\n      <td>2</td>\n    </tr>\n    <tr>\n      <th>158</th>\n      <td>KINDERHOOK CREEK FARM, INC</td>\n      <td>9</td>\n    </tr>\n    <tr>\n      <th>174</th>\n      <td>BACK FORTY BLUEBERRY NURSERY, LLC</td>\n      <td>7</td>\n    </tr>\n    <tr>\n      <th>569</th>\n      <td>GISI PHEASANT FARM, INC</td>\n      <td>40</td>\n    </tr>\n    <tr>\n      <th>910</th>\n      <td>COTTON HOPE FARMS</td>\n      <td>36</td>\n    </tr>\n    <tr>\n      <th>...</th>\n      <td>...</td>\n      <td>...</td>\n    </tr>\n    <tr>\n      <th>313892</th>\n      <td>CLARK BROTHERS NURSERY LLC</td>\n      <td>4</td>\n    </tr>\n    <tr>\n      <th>313894</th>\n      <td>FEENEY'S WHOLESALE NURSERY INC</td>\n      <td>10</td>\n    </tr>\n    <tr>\n      <th>313896</th>\n      <td>BLOOMAKER USA, INC</td>\n      <td>52</td>\n    </tr>\n    <tr>\n      <th>313911</th>\n      <td>AURORA FARMS LLC</td>\n      <td>2</td>\n    </tr>\n    <tr>\n      <th>313924</th>\n      <td>NESBITT FRUIT FARMS</td>\n      <td>1</td>\n    </tr>\n  </tbody>\n</table>\n<p>3525 rows × 2 columns</p>\n</div>"
     },
     "metadata": {},
     "execution_count": 30
    }
   ],
   "source": [
    "investigations_cleaned[[\"name\",\"h2a_violtn_cnt\"]]\n",
    "violations = investigations_cleaned.loc[investigations_cleaned.h2a_violtn_cnt > 0, :].copy()\n",
    "violations[[\"name\",\"h2a_violtn_cnt\"]]"
   ]
  },
  {
   "cell_type": "code",
   "execution_count": 36,
   "metadata": {},
   "outputs": [
    {
     "output_type": "execute_result",
     "data": {
      "text/plain": [
       "<Index>"
      ]
     },
     "metadata": {},
     "execution_count": 36
    },
    {
     "output_type": "execute_result",
     "data": {
      "text/plain": [
       "<Compare>"
      ]
     },
     "metadata": {},
     "execution_count": 36
    },
    {
     "output_type": "execute_result",
     "data": {
      "text/plain": [
       "    Name  index_approved_only  index_violations_cleaned         status  \\\n",
       "35   1.0                 1841                    300645  CERTIFICATION   \n",
       "36   1.0                 1862                    279472  CERTIFICATION   \n",
       "37   1.0                 3486                    279472  CERTIFICATION   \n",
       "38   1.0                 3694                    279472  CERTIFICATION   \n",
       "39   1.0                 3890                    279472  CERTIFICATION   \n",
       "\n",
       "   JOB_START_DATE JOB_END_DATE EMPLOYER_STATE         name_approved_only  \\\n",
       "35     2017-12-07   2018-05-31             CA  CARNEROS CREEK WINERY INC   \n",
       "36     2017-12-14   2018-09-05             CA      PACIFIC LIVESTOCK INC   \n",
       "37     2017-12-14   2018-07-16             CA         PACIFICA PERSONNEL   \n",
       "38     2017-12-27   2018-07-16             CA    PACIFICA PERSONNEL, INC   \n",
       "39     2018-01-08   2018-07-23             CA         PACIFICA PERSONNEL   \n",
       "\n",
       "   st_cd    name_violations_cleaned  case_violtn_cnt findings_start_date  \\\n",
       "35    CA  CARNEROS CREEK WINERY INC               19          2017-12-07   \n",
       "36    CA    PACIFICA PERSONNEL, INC              114          2019-04-10   \n",
       "37    CA    PACIFICA PERSONNEL, INC              114          2019-04-10   \n",
       "38    CA    PACIFICA PERSONNEL, INC              114          2019-04-10   \n",
       "39    CA    PACIFICA PERSONNEL, INC              114          2019-04-10   \n",
       "\n",
       "   findings_end_date  \n",
       "35        2018-07-23  \n",
       "36        2019-06-03  \n",
       "37        2019-06-03  \n",
       "38        2019-06-03  \n",
       "39        2019-06-03  "
      ],
      "text/html": "<div>\n<style scoped>\n    .dataframe tbody tr th:only-of-type {\n        vertical-align: middle;\n    }\n\n    .dataframe tbody tr th {\n        vertical-align: top;\n    }\n\n    .dataframe thead th {\n        text-align: right;\n    }\n</style>\n<table border=\"1\" class=\"dataframe\">\n  <thead>\n    <tr style=\"text-align: right;\">\n      <th></th>\n      <th>Name</th>\n      <th>index_approved_only</th>\n      <th>index_violations_cleaned</th>\n      <th>status</th>\n      <th>JOB_START_DATE</th>\n      <th>JOB_END_DATE</th>\n      <th>EMPLOYER_STATE</th>\n      <th>name_approved_only</th>\n      <th>st_cd</th>\n      <th>name_violations_cleaned</th>\n      <th>case_violtn_cnt</th>\n      <th>findings_start_date</th>\n      <th>findings_end_date</th>\n    </tr>\n  </thead>\n  <tbody>\n    <tr>\n      <th>35</th>\n      <td>1.0</td>\n      <td>1841</td>\n      <td>300645</td>\n      <td>CERTIFICATION</td>\n      <td>2017-12-07</td>\n      <td>2018-05-31</td>\n      <td>CA</td>\n      <td>CARNEROS CREEK WINERY INC</td>\n      <td>CA</td>\n      <td>CARNEROS CREEK WINERY INC</td>\n      <td>19</td>\n      <td>2017-12-07</td>\n      <td>2018-07-23</td>\n    </tr>\n    <tr>\n      <th>36</th>\n      <td>1.0</td>\n      <td>1862</td>\n      <td>279472</td>\n      <td>CERTIFICATION</td>\n      <td>2017-12-14</td>\n      <td>2018-09-05</td>\n      <td>CA</td>\n      <td>PACIFIC LIVESTOCK INC</td>\n      <td>CA</td>\n      <td>PACIFICA PERSONNEL, INC</td>\n      <td>114</td>\n      <td>2019-04-10</td>\n      <td>2019-06-03</td>\n    </tr>\n    <tr>\n      <th>37</th>\n      <td>1.0</td>\n      <td>3486</td>\n      <td>279472</td>\n      <td>CERTIFICATION</td>\n      <td>2017-12-14</td>\n      <td>2018-07-16</td>\n      <td>CA</td>\n      <td>PACIFICA PERSONNEL</td>\n      <td>CA</td>\n      <td>PACIFICA PERSONNEL, INC</td>\n      <td>114</td>\n      <td>2019-04-10</td>\n      <td>2019-06-03</td>\n    </tr>\n    <tr>\n      <th>38</th>\n      <td>1.0</td>\n      <td>3694</td>\n      <td>279472</td>\n      <td>CERTIFICATION</td>\n      <td>2017-12-27</td>\n      <td>2018-07-16</td>\n      <td>CA</td>\n      <td>PACIFICA PERSONNEL, INC</td>\n      <td>CA</td>\n      <td>PACIFICA PERSONNEL, INC</td>\n      <td>114</td>\n      <td>2019-04-10</td>\n      <td>2019-06-03</td>\n    </tr>\n    <tr>\n      <th>39</th>\n      <td>1.0</td>\n      <td>3890</td>\n      <td>279472</td>\n      <td>CERTIFICATION</td>\n      <td>2018-01-08</td>\n      <td>2018-07-23</td>\n      <td>CA</td>\n      <td>PACIFICA PERSONNEL</td>\n      <td>CA</td>\n      <td>PACIFICA PERSONNEL, INC</td>\n      <td>114</td>\n      <td>2019-04-10</td>\n      <td>2019-06-03</td>\n    </tr>\n  </tbody>\n</table>\n</div>"
     },
     "metadata": {},
     "execution_count": 36
    },
    {
     "output_type": "execute_result",
     "data": {
      "text/plain": [
       "    Name  index_approved_only  index_violations_cleaned         status  \\\n",
       "36   1.0                 1862                    279472  CERTIFICATION   \n",
       "37   1.0                 3486                    279472  CERTIFICATION   \n",
       "38   1.0                 3694                    279472  CERTIFICATION   \n",
       "39   1.0                 3890                    279472  CERTIFICATION   \n",
       "40   1.0                 5250                    279472  CERTIFICATION   \n",
       "\n",
       "   JOB_START_DATE JOB_END_DATE EMPLOYER_STATE       name_approved_only st_cd  \\\n",
       "36     2017-12-14   2018-09-05             CA    PACIFIC LIVESTOCK INC    CA   \n",
       "37     2017-12-14   2018-07-16             CA       PACIFICA PERSONNEL    CA   \n",
       "38     2017-12-27   2018-07-16             CA  PACIFICA PERSONNEL, INC    CA   \n",
       "39     2018-01-08   2018-07-23             CA       PACIFICA PERSONNEL    CA   \n",
       "40     2017-12-29   2018-07-16             CA       PACIFICA PERSONNEL    CA   \n",
       "\n",
       "    name_violations_cleaned  case_violtn_cnt findings_start_date  \\\n",
       "36  PACIFICA PERSONNEL, INC              114          2019-04-10   \n",
       "37  PACIFICA PERSONNEL, INC              114          2019-04-10   \n",
       "38  PACIFICA PERSONNEL, INC              114          2019-04-10   \n",
       "39  PACIFICA PERSONNEL, INC              114          2019-04-10   \n",
       "40  PACIFICA PERSONNEL, INC              114          2019-04-10   \n",
       "\n",
       "   findings_end_date  \n",
       "36        2019-06-03  \n",
       "37        2019-06-03  \n",
       "38        2019-06-03  \n",
       "39        2019-06-03  \n",
       "40        2019-06-03  "
      ],
      "text/html": "<div>\n<style scoped>\n    .dataframe tbody tr th:only-of-type {\n        vertical-align: middle;\n    }\n\n    .dataframe tbody tr th {\n        vertical-align: top;\n    }\n\n    .dataframe thead th {\n        text-align: right;\n    }\n</style>\n<table border=\"1\" class=\"dataframe\">\n  <thead>\n    <tr style=\"text-align: right;\">\n      <th></th>\n      <th>Name</th>\n      <th>index_approved_only</th>\n      <th>index_violations_cleaned</th>\n      <th>status</th>\n      <th>JOB_START_DATE</th>\n      <th>JOB_END_DATE</th>\n      <th>EMPLOYER_STATE</th>\n      <th>name_approved_only</th>\n      <th>st_cd</th>\n      <th>name_violations_cleaned</th>\n      <th>case_violtn_cnt</th>\n      <th>findings_start_date</th>\n      <th>findings_end_date</th>\n    </tr>\n  </thead>\n  <tbody>\n    <tr>\n      <th>36</th>\n      <td>1.0</td>\n      <td>1862</td>\n      <td>279472</td>\n      <td>CERTIFICATION</td>\n      <td>2017-12-14</td>\n      <td>2018-09-05</td>\n      <td>CA</td>\n      <td>PACIFIC LIVESTOCK INC</td>\n      <td>CA</td>\n      <td>PACIFICA PERSONNEL, INC</td>\n      <td>114</td>\n      <td>2019-04-10</td>\n      <td>2019-06-03</td>\n    </tr>\n    <tr>\n      <th>37</th>\n      <td>1.0</td>\n      <td>3486</td>\n      <td>279472</td>\n      <td>CERTIFICATION</td>\n      <td>2017-12-14</td>\n      <td>2018-07-16</td>\n      <td>CA</td>\n      <td>PACIFICA PERSONNEL</td>\n      <td>CA</td>\n      <td>PACIFICA PERSONNEL, INC</td>\n      <td>114</td>\n      <td>2019-04-10</td>\n      <td>2019-06-03</td>\n    </tr>\n    <tr>\n      <th>38</th>\n      <td>1.0</td>\n      <td>3694</td>\n      <td>279472</td>\n      <td>CERTIFICATION</td>\n      <td>2017-12-27</td>\n      <td>2018-07-16</td>\n      <td>CA</td>\n      <td>PACIFICA PERSONNEL, INC</td>\n      <td>CA</td>\n      <td>PACIFICA PERSONNEL, INC</td>\n      <td>114</td>\n      <td>2019-04-10</td>\n      <td>2019-06-03</td>\n    </tr>\n    <tr>\n      <th>39</th>\n      <td>1.0</td>\n      <td>3890</td>\n      <td>279472</td>\n      <td>CERTIFICATION</td>\n      <td>2018-01-08</td>\n      <td>2018-07-23</td>\n      <td>CA</td>\n      <td>PACIFICA PERSONNEL</td>\n      <td>CA</td>\n      <td>PACIFICA PERSONNEL, INC</td>\n      <td>114</td>\n      <td>2019-04-10</td>\n      <td>2019-06-03</td>\n    </tr>\n    <tr>\n      <th>40</th>\n      <td>1.0</td>\n      <td>5250</td>\n      <td>279472</td>\n      <td>CERTIFICATION</td>\n      <td>2017-12-29</td>\n      <td>2018-07-16</td>\n      <td>CA</td>\n      <td>PACIFICA PERSONNEL</td>\n      <td>CA</td>\n      <td>PACIFICA PERSONNEL, INC</td>\n      <td>114</td>\n      <td>2019-04-10</td>\n      <td>2019-06-03</td>\n    </tr>\n  </tbody>\n</table>\n</div>"
     },
     "metadata": {},
     "execution_count": 36
    }
   ],
   "source": [
    "## STEP 1: INITIALIZE OUR RECORDLINKAGE INDEX AND BLOCK ON STATE\n",
    "link_apps_investigations = recordlinkage.Index()                                 \n",
    "link_apps_investigations.block(left_on = \"EMPLOYER_STATE\", right_on = \"st_cd\")     \n",
    "candidate_links_state = link_apps_investigations.index(approved_only, violations)\n",
    "\n",
    "## STEP 2: INITIALIZE OUR COMPARE CLASS\n",
    "compare = recordlinkage.Compare()        \n",
    "compare.string(\"name\",\"name\", method = \"jarowinkler\", threshold = 0.85) \n",
    "\n",
    "## STEP 3: COMPUTE BASED ON OUR PROVIDED COMPARISON\n",
    "compare_vectors = compare.compute(candidate_links_state, approved_only, violations)\n",
    "compare_vectors.columns = [\"Name\"]                           ## rename the column to appropriate variable\n",
    "selected = compare_vectors[compare_vectors.Name == 1].copy() ## select the matches\n",
    "\n",
    "## STEP 4: PULL OUT THE INDEX VALUES SO THAT WE CAN MATCH THE CORRECT ENTRIES TO THE ORIGINAL DATA\n",
    "n = selected.shape[0]\n",
    "index_approved_only_values = []\n",
    "index_violations_cleaned_values = []\n",
    "for i in range(n):\n",
    "    index = selected.index[i]\n",
    "    index_approved_only_values.append(index[0])\n",
    "    index_violations_cleaned_values.append(index[1])\n",
    "selected[\"index_approved_only\"] = index_approved_only_values.copy()\n",
    "selected[\"index_violations_cleaned\"] = index_violations_cleaned_values.copy()\n",
    "\n",
    "## STEP 5: MERGE THE MATCHES BACK WITH THE APPROVED_ONLY H2A DATA\n",
    "approved_only[\"index_approved_only\"] = approved_only.index \n",
    "approved_only_columns = [\"status\",\"JOB_START_DATE\",\"JOB_END_DATE\",\"EMPLOYER_STATE\", \"name\",\"index_approved_only\"] \n",
    "m1 = pd.merge(selected, approved_only[approved_only_columns], on = \"index_approved_only\", how = \"inner\")\n",
    "\n",
    "## STEP 6: MERGE THE RESULT FROM STEP 5 WITH THE VIOLATIONS DATA\n",
    "violations[\"index_violations_cleaned\"] = violations.index\n",
    "violations_cleaned_columns = [\"st_cd\", \"name\", \"index_violations_cleaned\", \"case_violtn_cnt\",\"findings_start_date\",\"findings_end_date\"]\n",
    "m2 = pd.merge(m1, violations[violations_cleaned_columns], on = \"index_violations_cleaned\", how = \"inner\", suffixes = [\"_approved_only\", \"_violations_cleaned\"])\n",
    "\n",
    "## STEP 7: PRINT OUT MEANINGFUL SUBSET (HERE WE'RE FINIDNG MATCHES WITH MORE THAN 50 VIOLATIONS \n",
    "#                                       FOUND AND WITHIN THE CORRECT TIME RANGE)\n",
    "apps_with_violations = m2.loc[((m2.findings_start_date >= m2.JOB_START_DATE)),:].copy()\n",
    "apps_50_plus_violatons = m2.loc[(m2.case_violtn_cnt > 50) & ((m2.findings_start_date >= m2.JOB_START_DATE)),:].copy()\n",
    "\n",
    "## DISPLAY\n",
    "apps_with_violations.head()\n",
    "apps_50_plus_violatons.head()\n"
   ]
  },
  {
   "cell_type": "code",
   "execution_count": null,
   "metadata": {},
   "outputs": [],
   "source": []
  }
 ]
}