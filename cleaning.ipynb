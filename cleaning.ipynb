{
 "metadata": {
  "language_info": {
   "codemirror_mode": {
    "name": "ipython",
    "version": 3
   },
   "file_extension": ".py",
   "mimetype": "text/x-python",
   "name": "python",
   "nbconvert_exporter": "python",
   "pygments_lexer": "ipython3",
   "version": "3.8.5"
  },
  "orig_nbformat": 2,
  "kernelspec": {
   "name": "python385jvsc74a57bd08931487ae6aa2a2759a4df1861a2b0a6e316a74e486b9255953d76f5b96e61c4",
   "display_name": "Python 3.8.5 64-bit ('base': conda)"
  }
 },
 "nbformat": 4,
 "nbformat_minor": 2,
 "cells": [
  {
   "cell_type": "code",
   "execution_count": 28,
   "metadata": {},
   "outputs": [],
   "source": [
    "## IMPORTS\n",
    "## helpful packages\n",
    "import pandas as pd\n",
    "import numpy as np\n",
    "import random\n",
    "import re\n",
    "import recordlinkage\n",
    "\n",
    "## repeated printouts\n",
    "from IPython.core.interactiveshell import InteractiveShell\n",
    "InteractiveShell.ast_node_interactivity = \"all\""
   ]
  },
  {
   "cell_type": "code",
   "execution_count": 29,
   "metadata": {},
   "outputs": [],
   "source": [
    "h2a = pd.read_excel(\"./my_data/h2a_2018.xlsx\")\n",
    "\n",
    "url = \"https://enfxfr.dol.gov/data_catalog/WHD/whd_whisard_20210415.csv.zip\"\n",
    "violations = pd.read_csv(url, \n",
    "                      index_col=None,\n",
    "                      dtype={7:'string'})\n",
    "violations['findings_start_date'] = pd.to_datetime(violations['findings_start_date'], errors='coerce')\n",
    "violations['findings_end_date'] = pd.to_datetime(violations['findings_end_date'], errors='coerce')\n",
    "# print(f'raw dataframe has {len(raw_dol.columns)} columns and {len(raw_dol)} rows')"
   ]
  },
  {
   "cell_type": "code",
   "execution_count": 30,
   "metadata": {
    "tags": []
   },
   "outputs": [],
   "source": [
    "def find_status(one):\n",
    "    string_version = str(one)\n",
    "    pattern = r'\\-\\s(.*)$'\n",
    "    found = re.findall(pattern, string_version)\n",
    "    return found[0]\n",
    "h2a[\"status\"] = [find_status(one) for one in h2a.CASE_STATUS]\n",
    "approved_only = h2a.loc[((h2a.status == \"CERTIFICATION\") | (h2a.status == \"PARTIAL CERTIFICATION\")),:].copy()"
   ]
  },
  {
   "cell_type": "code",
   "execution_count": 31,
   "metadata": {},
   "outputs": [],
   "source": [
    "merge_attempt = pd.merge(approved_only, violations, how = \"inner\", left_on = \"EMPLOYER_NAME\", right_on = \"legal_name\", indicator = \"name_merge_status\") \n",
    "without_dups = merge_attempt[[\"EMPLOYER_NAME\", \"legal_name\",\"CASE_STATUS\"]].drop_duplicates()"
   ]
  },
  {
   "cell_type": "code",
   "execution_count": 32,
   "metadata": {},
   "outputs": [],
   "source": [
    "def clean_names(one):\n",
    "    string_version = str(one)\n",
    "    upper_only = string_version.upper()\n",
    "    pattern = r\"(LLC|CO|INC)\\.\" ## locate the LLC, CO, or INC that are followed by a period\n",
    "    replacement = r'\\1'         ## replace the whole pattern with the LLC/CO/INC component \n",
    "    res = re.sub(pattern, replacement, upper_only)\n",
    "    return res\n",
    "\n",
    "approved_only[\"name\"] = [clean_names(one) for one in approved_only.EMPLOYER_NAME]\n",
    "violations[\"name\"] = [clean_names(one) for one in violations.legal_name]\n",
    "violations_cleaned = violations.loc[violations.name != \"NAN\",:].copy()"
   ]
  },
  {
   "cell_type": "code",
   "execution_count": 33,
   "metadata": {
    "tags": []
   },
   "outputs": [],
   "source": [
    "list_of_violators = [one for one in violations_cleaned.name]\n",
    "approved_only[\"has_investigation\"] = [np.where(str(one) in list_of_violators, \"Yes\", \"No\") for one in approved_only.name]"
   ]
  },
  {
   "cell_type": "code",
   "execution_count": 34,
   "metadata": {},
   "outputs": [
    {
     "output_type": "execute_result",
     "data": {
      "text/plain": [
       "                                                name  h2a_violtn_cnt\n",
       "0                RELIANT ENERGY RETAIL SERVICES, LLC               0\n",
       "1                     HEALTHCARE SERVICES GROUP, INC               0\n",
       "2                         CENTRAL AVENUE BAKERY, INC               0\n",
       "3                                 CATHOLIC CHERITIES               0\n",
       "5                                   DERRICK PLUMBING               0\n",
       "...                                              ...             ...\n",
       "313922  EL TAPATIO MEXICAN RESTAURANT(LA FINCA, INC)               0\n",
       "313923                                WEST FLEET INC               0\n",
       "313924                           NESBITT FRUIT FARMS               1\n",
       "313925                                    MOTOS, INC               0\n",
       "313926          HIGHLAND LAKES FURNITURE CENTER, INC               0\n",
       "\n",
       "[310719 rows x 2 columns]"
      ],
      "text/html": "<div>\n<style scoped>\n    .dataframe tbody tr th:only-of-type {\n        vertical-align: middle;\n    }\n\n    .dataframe tbody tr th {\n        vertical-align: top;\n    }\n\n    .dataframe thead th {\n        text-align: right;\n    }\n</style>\n<table border=\"1\" class=\"dataframe\">\n  <thead>\n    <tr style=\"text-align: right;\">\n      <th></th>\n      <th>name</th>\n      <th>h2a_violtn_cnt</th>\n    </tr>\n  </thead>\n  <tbody>\n    <tr>\n      <th>0</th>\n      <td>RELIANT ENERGY RETAIL SERVICES, LLC</td>\n      <td>0</td>\n    </tr>\n    <tr>\n      <th>1</th>\n      <td>HEALTHCARE SERVICES GROUP, INC</td>\n      <td>0</td>\n    </tr>\n    <tr>\n      <th>2</th>\n      <td>CENTRAL AVENUE BAKERY, INC</td>\n      <td>0</td>\n    </tr>\n    <tr>\n      <th>3</th>\n      <td>CATHOLIC CHERITIES</td>\n      <td>0</td>\n    </tr>\n    <tr>\n      <th>5</th>\n      <td>DERRICK PLUMBING</td>\n      <td>0</td>\n    </tr>\n    <tr>\n      <th>...</th>\n      <td>...</td>\n      <td>...</td>\n    </tr>\n    <tr>\n      <th>313922</th>\n      <td>EL TAPATIO MEXICAN RESTAURANT(LA FINCA, INC)</td>\n      <td>0</td>\n    </tr>\n    <tr>\n      <th>313923</th>\n      <td>WEST FLEET INC</td>\n      <td>0</td>\n    </tr>\n    <tr>\n      <th>313924</th>\n      <td>NESBITT FRUIT FARMS</td>\n      <td>1</td>\n    </tr>\n    <tr>\n      <th>313925</th>\n      <td>MOTOS, INC</td>\n      <td>0</td>\n    </tr>\n    <tr>\n      <th>313926</th>\n      <td>HIGHLAND LAKES FURNITURE CENTER, INC</td>\n      <td>0</td>\n    </tr>\n  </tbody>\n</table>\n<p>310719 rows × 2 columns</p>\n</div>"
     },
     "metadata": {},
     "execution_count": 34
    },
    {
     "output_type": "execute_result",
     "data": {
      "text/plain": [
       "                                     name  h2a_violtn_cnt\n",
       "72                   GLADES PLANTING, LLC               2\n",
       "158            KINDERHOOK CREEK FARM, INC               9\n",
       "174     BACK FORTY BLUEBERRY NURSERY, LLC               7\n",
       "569               GISI PHEASANT FARM, INC              40\n",
       "910                     COTTON HOPE FARMS              36\n",
       "...                                   ...             ...\n",
       "313892         CLARK BROTHERS NURSERY LLC               4\n",
       "313894     FEENEY'S WHOLESALE NURSERY INC              10\n",
       "313896                 BLOOMAKER USA, INC              52\n",
       "313911                   AURORA FARMS LLC               2\n",
       "313924                NESBITT FRUIT FARMS               1\n",
       "\n",
       "[3525 rows x 2 columns]"
      ],
      "text/html": "<div>\n<style scoped>\n    .dataframe tbody tr th:only-of-type {\n        vertical-align: middle;\n    }\n\n    .dataframe tbody tr th {\n        vertical-align: top;\n    }\n\n    .dataframe thead th {\n        text-align: right;\n    }\n</style>\n<table border=\"1\" class=\"dataframe\">\n  <thead>\n    <tr style=\"text-align: right;\">\n      <th></th>\n      <th>name</th>\n      <th>h2a_violtn_cnt</th>\n    </tr>\n  </thead>\n  <tbody>\n    <tr>\n      <th>72</th>\n      <td>GLADES PLANTING, LLC</td>\n      <td>2</td>\n    </tr>\n    <tr>\n      <th>158</th>\n      <td>KINDERHOOK CREEK FARM, INC</td>\n      <td>9</td>\n    </tr>\n    <tr>\n      <th>174</th>\n      <td>BACK FORTY BLUEBERRY NURSERY, LLC</td>\n      <td>7</td>\n    </tr>\n    <tr>\n      <th>569</th>\n      <td>GISI PHEASANT FARM, INC</td>\n      <td>40</td>\n    </tr>\n    <tr>\n      <th>910</th>\n      <td>COTTON HOPE FARMS</td>\n      <td>36</td>\n    </tr>\n    <tr>\n      <th>...</th>\n      <td>...</td>\n      <td>...</td>\n    </tr>\n    <tr>\n      <th>313892</th>\n      <td>CLARK BROTHERS NURSERY LLC</td>\n      <td>4</td>\n    </tr>\n    <tr>\n      <th>313894</th>\n      <td>FEENEY'S WHOLESALE NURSERY INC</td>\n      <td>10</td>\n    </tr>\n    <tr>\n      <th>313896</th>\n      <td>BLOOMAKER USA, INC</td>\n      <td>52</td>\n    </tr>\n    <tr>\n      <th>313911</th>\n      <td>AURORA FARMS LLC</td>\n      <td>2</td>\n    </tr>\n    <tr>\n      <th>313924</th>\n      <td>NESBITT FRUIT FARMS</td>\n      <td>1</td>\n    </tr>\n  </tbody>\n</table>\n<p>3525 rows × 2 columns</p>\n</div>"
     },
     "metadata": {},
     "execution_count": 34
    }
   ],
   "source": [
    "# approved_only[\"h2a\"]\n",
    "violations_cleaned[[\"name\",\"h2a_violtn_cnt\"]]\n",
    "nonzero_violations = violations_cleaned.loc[violations_cleaned.h2a_violtn_cnt > 0, :].copy()\n",
    "nonzero_violations[[\"name\",\"h2a_violtn_cnt\"]]"
   ]
  },
  {
   "cell_type": "code",
   "execution_count": 35,
   "metadata": {},
   "outputs": [
    {
     "output_type": "execute_result",
     "data": {
      "text/plain": [
       "<Index>"
      ]
     },
     "metadata": {},
     "execution_count": 35
    },
    {
     "output_type": "execute_result",
     "data": {
      "text/plain": [
       "<Compare>"
      ]
     },
     "metadata": {},
     "execution_count": 35
    },
    {
     "output_type": "stream",
     "name": "stdout",
     "text": [
      "pre-compare\n",
      "post-compare\n",
      "CHECKPOINT 1\n",
      "CHECKPINT 2\n",
      "CHECKPINT 3\n",
      "CHECKPINT 4\n"
     ]
    },
    {
     "output_type": "execute_result",
     "data": {
      "text/plain": [
       "       Name  index_approved_only  index_violations_cleaned         status  \\\n",
       "16      1.0                 1209                     61774  CERTIFICATION   \n",
       "17      1.0                 5643                     61774  CERTIFICATION   \n",
       "36      1.0                 1862                    279472  CERTIFICATION   \n",
       "37      1.0                 3486                    279472  CERTIFICATION   \n",
       "38      1.0                 3694                    279472  CERTIFICATION   \n",
       "...     ...                  ...                       ...            ...   \n",
       "14308   1.0                 4867                    251789  CERTIFICATION   \n",
       "14309   1.0                 8556                    251789  CERTIFICATION   \n",
       "14310   1.0                 8591                    251789  CERTIFICATION   \n",
       "14311   1.0                 5056                    297461  CERTIFICATION   \n",
       "14336   1.0                10328                    231187  CERTIFICATION   \n",
       "\n",
       "      has_investigation JOB_START_DATE JOB_END_DATE EMPLOYER_STATE  \\\n",
       "16                  Yes     2017-11-07   2018-06-01             CA   \n",
       "17                   No     2018-01-19   2018-07-30             CA   \n",
       "36                   No     2017-12-14   2018-09-05             CA   \n",
       "37                   No     2017-12-14   2018-07-16             CA   \n",
       "38                  Yes     2017-12-27   2018-07-16             CA   \n",
       "...                 ...            ...          ...            ...   \n",
       "14308                No     2018-01-19   2018-08-01             ME   \n",
       "14309                No     2018-03-21   2018-08-31             ME   \n",
       "14310                No     2018-02-21   2018-08-15             ME   \n",
       "14311               Yes     2018-02-01   2018-08-08             ME   \n",
       "14336               Yes     2018-03-02   2018-08-23             ME   \n",
       "\n",
       "                         name_approved_only st_cd  \\\n",
       "16                MOUNTAIN AVENUE BEES, INC    CA   \n",
       "17                 MOUNTAIN AVENUE BEES INC    CA   \n",
       "36                    PACIFIC LIVESTOCK INC    CA   \n",
       "37                       PACIFICA PERSONNEL    CA   \n",
       "38                  PACIFICA PERSONNEL, INC    CA   \n",
       "...                                     ...   ...   \n",
       "14308  PINELAND FARMS / GILLESPIE FARMS DIV    ME   \n",
       "14309  PINELAND FARMS / GILLESPIE FARMS DIV    ME   \n",
       "14310  PINELAND FARMS / GILLESPIE FARMS DIV    ME   \n",
       "14311                   BACKYARD FARMS, LLC    ME   \n",
       "14336           EMERALD VALLEY RANCHES, LLC    ME   \n",
       "\n",
       "           name_violations_cleaned  case_violtn_cnt findings_start_date  \\\n",
       "16       MOUNTAIN AVENUE BEES, INC              130          2010-10-26   \n",
       "17       MOUNTAIN AVENUE BEES, INC              130          2010-10-26   \n",
       "36         PACIFICA PERSONNEL, INC              114          2019-04-10   \n",
       "37         PACIFICA PERSONNEL, INC              114          2019-04-10   \n",
       "38         PACIFICA PERSONNEL, INC              114          2019-04-10   \n",
       "...                            ...              ...                 ...   \n",
       "14308          PINELAND FARMS, INC              136          2014-10-03   \n",
       "14309          PINELAND FARMS, INC              136          2014-10-03   \n",
       "14310          PINELAND FARMS, INC              136          2014-10-03   \n",
       "14311          BACKYARD FARMS, LLC              330          2017-07-28   \n",
       "14336  EMERALD VALLEY RANCHES, LLC              317          2015-08-23   \n",
       "\n",
       "      findings_end_date  \n",
       "16           2012-10-16  \n",
       "17           2012-10-16  \n",
       "36           2019-06-03  \n",
       "37           2019-06-03  \n",
       "38           2019-06-03  \n",
       "...                 ...  \n",
       "14308        2016-10-02  \n",
       "14309        2016-10-02  \n",
       "14310        2016-10-02  \n",
       "14311        2019-12-22  \n",
       "14336        2017-08-22  \n",
       "\n",
       "[1025 rows x 14 columns]"
      ],
      "text/html": "<div>\n<style scoped>\n    .dataframe tbody tr th:only-of-type {\n        vertical-align: middle;\n    }\n\n    .dataframe tbody tr th {\n        vertical-align: top;\n    }\n\n    .dataframe thead th {\n        text-align: right;\n    }\n</style>\n<table border=\"1\" class=\"dataframe\">\n  <thead>\n    <tr style=\"text-align: right;\">\n      <th></th>\n      <th>Name</th>\n      <th>index_approved_only</th>\n      <th>index_violations_cleaned</th>\n      <th>status</th>\n      <th>has_investigation</th>\n      <th>JOB_START_DATE</th>\n      <th>JOB_END_DATE</th>\n      <th>EMPLOYER_STATE</th>\n      <th>name_approved_only</th>\n      <th>st_cd</th>\n      <th>name_violations_cleaned</th>\n      <th>case_violtn_cnt</th>\n      <th>findings_start_date</th>\n      <th>findings_end_date</th>\n    </tr>\n  </thead>\n  <tbody>\n    <tr>\n      <th>16</th>\n      <td>1.0</td>\n      <td>1209</td>\n      <td>61774</td>\n      <td>CERTIFICATION</td>\n      <td>Yes</td>\n      <td>2017-11-07</td>\n      <td>2018-06-01</td>\n      <td>CA</td>\n      <td>MOUNTAIN AVENUE BEES, INC</td>\n      <td>CA</td>\n      <td>MOUNTAIN AVENUE BEES, INC</td>\n      <td>130</td>\n      <td>2010-10-26</td>\n      <td>2012-10-16</td>\n    </tr>\n    <tr>\n      <th>17</th>\n      <td>1.0</td>\n      <td>5643</td>\n      <td>61774</td>\n      <td>CERTIFICATION</td>\n      <td>No</td>\n      <td>2018-01-19</td>\n      <td>2018-07-30</td>\n      <td>CA</td>\n      <td>MOUNTAIN AVENUE BEES INC</td>\n      <td>CA</td>\n      <td>MOUNTAIN AVENUE BEES, INC</td>\n      <td>130</td>\n      <td>2010-10-26</td>\n      <td>2012-10-16</td>\n    </tr>\n    <tr>\n      <th>36</th>\n      <td>1.0</td>\n      <td>1862</td>\n      <td>279472</td>\n      <td>CERTIFICATION</td>\n      <td>No</td>\n      <td>2017-12-14</td>\n      <td>2018-09-05</td>\n      <td>CA</td>\n      <td>PACIFIC LIVESTOCK INC</td>\n      <td>CA</td>\n      <td>PACIFICA PERSONNEL, INC</td>\n      <td>114</td>\n      <td>2019-04-10</td>\n      <td>2019-06-03</td>\n    </tr>\n    <tr>\n      <th>37</th>\n      <td>1.0</td>\n      <td>3486</td>\n      <td>279472</td>\n      <td>CERTIFICATION</td>\n      <td>No</td>\n      <td>2017-12-14</td>\n      <td>2018-07-16</td>\n      <td>CA</td>\n      <td>PACIFICA PERSONNEL</td>\n      <td>CA</td>\n      <td>PACIFICA PERSONNEL, INC</td>\n      <td>114</td>\n      <td>2019-04-10</td>\n      <td>2019-06-03</td>\n    </tr>\n    <tr>\n      <th>38</th>\n      <td>1.0</td>\n      <td>3694</td>\n      <td>279472</td>\n      <td>CERTIFICATION</td>\n      <td>Yes</td>\n      <td>2017-12-27</td>\n      <td>2018-07-16</td>\n      <td>CA</td>\n      <td>PACIFICA PERSONNEL, INC</td>\n      <td>CA</td>\n      <td>PACIFICA PERSONNEL, INC</td>\n      <td>114</td>\n      <td>2019-04-10</td>\n      <td>2019-06-03</td>\n    </tr>\n    <tr>\n      <th>...</th>\n      <td>...</td>\n      <td>...</td>\n      <td>...</td>\n      <td>...</td>\n      <td>...</td>\n      <td>...</td>\n      <td>...</td>\n      <td>...</td>\n      <td>...</td>\n      <td>...</td>\n      <td>...</td>\n      <td>...</td>\n      <td>...</td>\n      <td>...</td>\n    </tr>\n    <tr>\n      <th>14308</th>\n      <td>1.0</td>\n      <td>4867</td>\n      <td>251789</td>\n      <td>CERTIFICATION</td>\n      <td>No</td>\n      <td>2018-01-19</td>\n      <td>2018-08-01</td>\n      <td>ME</td>\n      <td>PINELAND FARMS / GILLESPIE FARMS DIV</td>\n      <td>ME</td>\n      <td>PINELAND FARMS, INC</td>\n      <td>136</td>\n      <td>2014-10-03</td>\n      <td>2016-10-02</td>\n    </tr>\n    <tr>\n      <th>14309</th>\n      <td>1.0</td>\n      <td>8556</td>\n      <td>251789</td>\n      <td>CERTIFICATION</td>\n      <td>No</td>\n      <td>2018-03-21</td>\n      <td>2018-08-31</td>\n      <td>ME</td>\n      <td>PINELAND FARMS / GILLESPIE FARMS DIV</td>\n      <td>ME</td>\n      <td>PINELAND FARMS, INC</td>\n      <td>136</td>\n      <td>2014-10-03</td>\n      <td>2016-10-02</td>\n    </tr>\n    <tr>\n      <th>14310</th>\n      <td>1.0</td>\n      <td>8591</td>\n      <td>251789</td>\n      <td>CERTIFICATION</td>\n      <td>No</td>\n      <td>2018-02-21</td>\n      <td>2018-08-15</td>\n      <td>ME</td>\n      <td>PINELAND FARMS / GILLESPIE FARMS DIV</td>\n      <td>ME</td>\n      <td>PINELAND FARMS, INC</td>\n      <td>136</td>\n      <td>2014-10-03</td>\n      <td>2016-10-02</td>\n    </tr>\n    <tr>\n      <th>14311</th>\n      <td>1.0</td>\n      <td>5056</td>\n      <td>297461</td>\n      <td>CERTIFICATION</td>\n      <td>Yes</td>\n      <td>2018-02-01</td>\n      <td>2018-08-08</td>\n      <td>ME</td>\n      <td>BACKYARD FARMS, LLC</td>\n      <td>ME</td>\n      <td>BACKYARD FARMS, LLC</td>\n      <td>330</td>\n      <td>2017-07-28</td>\n      <td>2019-12-22</td>\n    </tr>\n    <tr>\n      <th>14336</th>\n      <td>1.0</td>\n      <td>10328</td>\n      <td>231187</td>\n      <td>CERTIFICATION</td>\n      <td>Yes</td>\n      <td>2018-03-02</td>\n      <td>2018-08-23</td>\n      <td>ME</td>\n      <td>EMERALD VALLEY RANCHES, LLC</td>\n      <td>ME</td>\n      <td>EMERALD VALLEY RANCHES, LLC</td>\n      <td>317</td>\n      <td>2015-08-23</td>\n      <td>2017-08-22</td>\n    </tr>\n  </tbody>\n</table>\n<p>1025 rows × 14 columns</p>\n</div>"
     },
     "metadata": {},
     "execution_count": 35
    }
   ],
   "source": [
    "link_apps_investigations = recordlinkage.Index()     ## initialize our recordlinkage index\n",
    "link_apps_investigations.block(left_on = \"EMPLOYER_STATE\", right_on = \"st_cd\")     ## block on EMPLOYER_STATE\n",
    "\n",
    "candidate_links_state = link_apps_investigations.index(approved_only, nonzero_violations) ## index on jobs and debar\n",
    "\n",
    "compare = recordlinkage.Compare()           ## initialize our compare class\n",
    "\n",
    "## compare on string using the jarowinkler method and 0.85 threshold\n",
    "\n",
    "compare.string(\"name\",\"name\", method = \"jarowinkler\", threshold = 0.85) \n",
    "\n",
    "\n",
    "## compare jobs and debar using our comparison described above\n",
    "print(\"pre-compare\")\n",
    "compare_vectors = compare.compute(candidate_links_state, approved_only, nonzero_violations)\n",
    "print(\"post-compare\")\n",
    "compare_vectors.columns = [\"Name\"] \n",
    "selected = compare_vectors[compare_vectors.Name == 1].copy() ## select the matches\n",
    "\n",
    "print(\"CHECKPOINT 1\")\n",
    "n = selected.shape[0]\n",
    "\n",
    "## pull out the index values for our selected matches to store in our selected dataframe\n",
    "index_approved_only_values = []\n",
    "index_violations_cleaned_values = []\n",
    "for i in range(n):\n",
    "    index = selected.index[i]\n",
    "    index_approved_only_values.append(index[0])\n",
    "    index_violations_cleaned_values.append(index[1])\n",
    "selected[\"index_approved_only\"] = index_approved_only_values.copy()\n",
    "selected[\"index_violations_cleaned\"] = index_violations_cleaned_values.copy()\n",
    "\n",
    "print(\"CHECKPINT 2\")\n",
    "## here, we're first going to make a column in jobs that has the index values\n",
    "## then, we're going to merge our selected matches with the rest of the jobs dataframe\n",
    "approved_only[\"index_approved_only\"] = approved_only.index \n",
    "approved_only_columns = [\"status\",\"has_investigation\",\"JOB_START_DATE\",\"JOB_END_DATE\",\"EMPLOYER_STATE\", \"name\",\"index_approved_only\"] \n",
    "m1_add_approved_only = pd.merge(selected, approved_only[approved_only_columns], on = \"index_approved_only\", how = \"inner\")\n",
    "print(\"CHECKPINT 3\")\n",
    "## we'll repeat the same process as above with debar\n",
    "## here, we'll merge our debar dataframe with the jobs + selected merged dataframe\n",
    "nonzero_violations[\"index_violations_cleaned\"] = nonzero_violations.index\n",
    "violations_cleaned_columns = [\"st_cd\", \"name\", \"index_violations_cleaned\", \"case_violtn_cnt\",\"findings_start_date\",\"findings_end_date\"]\n",
    "m2_add_violations_cleaned = pd.merge(m1_add_approved_only, nonzero_violations[violations_cleaned_columns], on = \"index_violations_cleaned\", how = \"inner\", suffixes = [\"_approved_only\", \"_violations_cleaned\"])\n",
    "print(\"CHECKPINT 4\")\n",
    "## print out the final merged dataframe\n",
    "m2_add_violations_cleaned.loc[m2_add_violations_cleaned.case_violtn_cnt > 100,:]\n"
   ]
  },
  {
   "cell_type": "code",
   "execution_count": null,
   "metadata": {},
   "outputs": [],
   "source": []
  }
 ]
}