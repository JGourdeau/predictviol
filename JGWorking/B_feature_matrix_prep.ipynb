{
 "cells": [
  {
   "cell_type": "code",
   "execution_count": 6,
   "id": "26ab3536",
   "metadata": {},
   "outputs": [],
   "source": [
    "#imports\n",
    "import pandas as pd\n",
    "import numpy as np\n",
    "import random\n",
    "import re\n",
    "import recordlinkage\n",
    "\n",
    "# ML imports \n",
    "from sklearn.feature_extraction.text import CountVectorizer\n",
    "from sklearn.model_selection import train_test_split\n",
    "from sklearn.metrics import accuracy_score, f1_score, precision_score, recall_score\n",
    "from sklearn.naive_bayes import MultinomialNB\n",
    "from sklearn.model_selection import cross_val_score\n",
    "from sklearn.svm import SVC\n",
    "from sklearn.preprocessing import OneHotEncoder\n",
    "from sklearn.tree import DecisionTreeClassifier\n",
    "from sklearn.compose import ColumnTransformer\n",
    "\n",
    "# prevent depreciation warnings\n",
    "import warnings\n",
    "warnings.filterwarnings(\"ignore\", category=DeprecationWarning)\n",
    "\n",
    "## repeated printouts\n",
    "from IPython.core.interactiveshell import InteractiveShell\n",
    "InteractiveShell.ast_node_interactivity = \"all\"\n"
   ]
  },
  {
   "cell_type": "markdown",
   "id": "f0ea8c89",
   "metadata": {},
   "source": [
    "## Read in and assign a unique identifier via the index"
   ]
  },
  {
   "cell_type": "code",
   "execution_count": 2,
   "id": "f4e1140a",
   "metadata": {
    "scrolled": true
   },
   "outputs": [
    {
     "data": {
      "text/plain": [
       "Index(['unique_id', 'CASE_NO', 'DECISION_DATE', 'VISA_CLASS',\n",
       "       'CASE_RECEIVED_DATE', 'CASE_STATUS', 'REQUESTED_START_DATE_OF_NEED',\n",
       "       'REQUESTED_END_DATE_OF_NEED', 'PRIMARY_SUB', 'EMPLOYER_NAME',\n",
       "       'TRADE_NAME_DBA', 'EMPLOYER_ADDRESS1', 'EMPLOYER_ADDRESS2',\n",
       "       'EMPLOYER_CITY', 'EMPLOYER_STATE', 'EMPLOYER_POSTAL_CODE',\n",
       "       'EMPLOYER_COUNTRY', 'EMPLOYER_PROVINCE', 'EMPLOYER_PHONE',\n",
       "       'EMPLOYER_PHONE_EXT', 'AGENT_POC_EMPLOYER_REP_BY_AGENT', 'LAWFIRM_NAME',\n",
       "       'AGENT_ATTORNEY_NAME', 'AGENT_ATTORNEY_CITY', 'AGENT_ATTORNEY_STATE',\n",
       "       'JOB_TITLE', 'SOC_CODE', 'SOC_TITLE', 'PRIMARY_CROP', 'NAICS_CODE',\n",
       "       'NBR_WORKERS_REQUESTED', 'NBR_WORKERS_CERTIFIED', 'FULL_TIME',\n",
       "       'NATURE_OF_TEMPORARY_NEED', 'BASIC_NUMBER_OF_HOURS',\n",
       "       'HOURLY_WORK_SCHEDULE_AM', 'HOURLY_WORK_SCHEDULE_PM',\n",
       "       'BASIC_RATE_OF_PAY', 'OVERTIME_RATE_FROM', 'OVERTIME_RATE_TO',\n",
       "       'BASIC_UNIT_OF_PAY', 'SUPERVISE_OTHER_EMP', 'SUPERVISE_HOW_MANY',\n",
       "       'EDUCATION_LEVEL', 'OTHER_EDU', 'MAJOR', 'SECOND_DIPLOMA',\n",
       "       'SECOND_DIPLOMA_MAJOR', 'TRAINING_REQ', 'NUM_MONTHS_TRAINING',\n",
       "       'NAME_REQD_TRAINING', 'EMP_EXPERIENCE_REQD', 'EMP_EXP_NUM_MONTHS',\n",
       "       'WORKSITE_CITY', 'WORKSITE_COUNTY', 'WORKSITE_STATE',\n",
       "       'WORKSITE_POSTAL_CODE', 'OTHER_WORKSITE_LOCATION', 'ORGANIZATION_FLAG',\n",
       "       'SWA_NAME', 'JOB_IDNUMBER', 'JOB_START_DATE', 'JOB_END_DATE', 'status',\n",
       "       'name', 'is_violator'],\n",
       "      dtype='object')"
      ]
     },
     "execution_count": 2,
     "metadata": {},
     "output_type": "execute_result"
    },
    {
     "name": "stdout",
     "output_type": "stream",
     "text": [
      "<class 'pandas.core.frame.DataFrame'>\n",
      "RangeIndex: 7643 entries, 0 to 7642\n",
      "Data columns (total 66 columns):\n",
      " #   Column                           Non-Null Count  Dtype  \n",
      "---  ------                           --------------  -----  \n",
      " 0   unique_id                        7643 non-null   int64  \n",
      " 1   CASE_NO                          7643 non-null   object \n",
      " 2   DECISION_DATE                    7643 non-null   object \n",
      " 3   VISA_CLASS                       7643 non-null   object \n",
      " 4   CASE_RECEIVED_DATE               7643 non-null   object \n",
      " 5   CASE_STATUS                      7643 non-null   object \n",
      " 6   REQUESTED_START_DATE_OF_NEED     7640 non-null   object \n",
      " 7   REQUESTED_END_DATE_OF_NEED       7640 non-null   object \n",
      " 8   PRIMARY_SUB                      7643 non-null   object \n",
      " 9   EMPLOYER_NAME                    7643 non-null   object \n",
      " 10  TRADE_NAME_DBA                   927 non-null    object \n",
      " 11  EMPLOYER_ADDRESS1                7641 non-null   object \n",
      " 12  EMPLOYER_ADDRESS2                1754 non-null   object \n",
      " 13  EMPLOYER_CITY                    7643 non-null   object \n",
      " 14  EMPLOYER_STATE                   7634 non-null   object \n",
      " 15  EMPLOYER_POSTAL_CODE             7641 non-null   object \n",
      " 16  EMPLOYER_COUNTRY                 7643 non-null   object \n",
      " 17  EMPLOYER_PROVINCE                196 non-null    object \n",
      " 18  EMPLOYER_PHONE                   7643 non-null   object \n",
      " 19  EMPLOYER_PHONE_EXT               215 non-null    float64\n",
      " 20  AGENT_POC_EMPLOYER_REP_BY_AGENT  7637 non-null   object \n",
      " 21  LAWFIRM_NAME                     6041 non-null   object \n",
      " 22  AGENT_ATTORNEY_NAME              6043 non-null   object \n",
      " 23  AGENT_ATTORNEY_CITY              6043 non-null   object \n",
      " 24  AGENT_ATTORNEY_STATE             6042 non-null   object \n",
      " 25  JOB_TITLE                        7643 non-null   object \n",
      " 26  SOC_CODE                         7643 non-null   object \n",
      " 27  SOC_TITLE                        7643 non-null   object \n",
      " 28  PRIMARY_CROP                     7643 non-null   object \n",
      " 29  NAICS_CODE                       6414 non-null   float64\n",
      " 30  NBR_WORKERS_REQUESTED            7635 non-null   float64\n",
      " 31  NBR_WORKERS_CERTIFIED            7635 non-null   float64\n",
      " 32  FULL_TIME                        7642 non-null   object \n",
      " 33  NATURE_OF_TEMPORARY_NEED         7643 non-null   object \n",
      " 34  BASIC_NUMBER_OF_HOURS            7556 non-null   float64\n",
      " 35  HOURLY_WORK_SCHEDULE_AM          7637 non-null   object \n",
      " 36  HOURLY_WORK_SCHEDULE_PM          7637 non-null   object \n",
      " 37  BASIC_RATE_OF_PAY                7643 non-null   float64\n",
      " 38  OVERTIME_RATE_FROM               203 non-null    float64\n",
      " 39  OVERTIME_RATE_TO                 106 non-null    float64\n",
      " 40  BASIC_UNIT_OF_PAY                7643 non-null   object \n",
      " 41  SUPERVISE_OTHER_EMP              7643 non-null   object \n",
      " 42  SUPERVISE_HOW_MANY               21 non-null     float64\n",
      " 43  EDUCATION_LEVEL                  7642 non-null   object \n",
      " 44  OTHER_EDU                        181 non-null    object \n",
      " 45  MAJOR                            193 non-null    object \n",
      " 46  SECOND_DIPLOMA                   7643 non-null   object \n",
      " 47  SECOND_DIPLOMA_MAJOR             0 non-null      float64\n",
      " 48  TRAINING_REQ                     7642 non-null   object \n",
      " 49  NUM_MONTHS_TRAINING              21 non-null     float64\n",
      " 50  NAME_REQD_TRAINING               13 non-null     object \n",
      " 51  EMP_EXPERIENCE_REQD              7643 non-null   object \n",
      " 52  EMP_EXP_NUM_MONTHS               6386 non-null   float64\n",
      " 53  WORKSITE_CITY                    7643 non-null   object \n",
      " 54  WORKSITE_COUNTY                  7639 non-null   object \n",
      " 55  WORKSITE_STATE                   7643 non-null   object \n",
      " 56  WORKSITE_POSTAL_CODE             7642 non-null   object \n",
      " 57  OTHER_WORKSITE_LOCATION          7643 non-null   object \n",
      " 58  ORGANIZATION_FLAG                6442 non-null   object \n",
      " 59  SWA_NAME                         7638 non-null   object \n",
      " 60  JOB_IDNUMBER                     7621 non-null   object \n",
      " 61  JOB_START_DATE                   7557 non-null   object \n",
      " 62  JOB_END_DATE                     7603 non-null   object \n",
      " 63  status                           7643 non-null   object \n",
      " 64  name                             7643 non-null   object \n",
      " 65  is_violator                      7643 non-null   int64  \n",
      "dtypes: float64(12), int64(2), object(52)\n",
      "memory usage: 3.8+ MB\n"
     ]
    }
   ],
   "source": [
    "# read in our PreMatrix csv from step A\n",
    "preMatrix = pd.read_csv('PreMatrix.csv').drop(columns=['Unnamed: 0'])\n",
    "preMatrix = preMatrix.reset_index().copy()\n",
    "preMatrix = preMatrix.rename(columns={\"index\": 'unique_id'})\n",
    "## convert the dates to datetime objects\n",
    "\n",
    "preMatrix.columns\n",
    "preMatrix.info()\n",
    "y = preMatrix.loc[:, ['is_violator']].copy()"
   ]
  },
  {
   "cell_type": "code",
   "execution_count": 3,
   "id": "808fe06e",
   "metadata": {},
   "outputs": [],
   "source": [
    "# prepare input data\n",
    "def prepare_inputs(X_train, X_test):\n",
    "    oe = OneHotEncoder()\n",
    "    oe.fit(X_train)\n",
    "    X_train_enc = oe.transform(X_train)\n",
    "    X_test_enc = oe.transform(X_test)\n",
    "    return X_train_enc, X_test_enc\n"
   ]
  },
  {
   "cell_type": "code",
   "execution_count": 4,
   "id": "a04e156e",
   "metadata": {},
   "outputs": [
    {
     "name": "stdout",
     "output_type": "stream",
     "text": [
      "(6114, 30)\n",
      "(1529, 30)\n",
      "(6114, 1)\n",
      "(1529, 1)\n"
     ]
    }
   ],
   "source": [
    "text_features_of_int = ['unique_id','VISA_CLASS', 'PRIMARY_SUB', 'EMPLOYER_ADDRESS1', \n",
    "                       'EMPLOYER_CITY', 'EMPLOYER_STATE', 'EMPLOYER_POSTAL_CODE', \n",
    "                       'EMPLOYER_COUNTRY', 'EMPLOYER_PROVINCE', 'AGENT_POC_EMPLOYER_REP_BY_AGENT', \n",
    "                       'LAWFIRM_NAME','AGENT_ATTORNEY_NAME', 'AGENT_ATTORNEY_CITY', 'AGENT_ATTORNEY_STATE',\n",
    "                       'JOB_TITLE', 'SOC_CODE', 'SOC_TITLE', 'PRIMARY_CROP', 'NAICS_CODE','FULL_TIME',\n",
    "                       'NATURE_OF_TEMPORARY_NEED', 'BASIC_UNIT_OF_PAY', 'EDUCATION_LEVEL', \n",
    "                       'SECOND_DIPLOMA', 'TRAINING_REQ', 'EMP_EXPERIENCE_REQD', 'WORKSITE_CITY', 'WORKSITE_STATE', \n",
    "                       'WORKSITE_POSTAL_CODE', 'ORGANIZATION_FLAG']\n",
    "\n",
    "text_feature_pre = preMatrix.loc[:, text_features_of_int].copy()\n",
    "\n",
    "# do a train test split \n",
    "# split into train and test sets (80/20)\n",
    "X_train, X_test, y_train, y_test = train_test_split(text_feature_pre, y, test_size=0.20, random_state=1)\n",
    "for df in [X_train, X_test, y_train, y_test]: \n",
    "    print(df.shape)\n",
    "\n",
    "# prepare input data\n",
    "from sklearn.preprocessing import LabelBinarizer\n",
    "\n"
   ]
  },
  {
   "cell_type": "code",
   "execution_count": 5,
   "id": "da5545a4",
   "metadata": {},
   "outputs": [],
   "source": [
    "#transformer = ColumnTransformer(transformers= ['cat'] = OneHotEncoder(), \n"
   ]
  }
 ],
 "metadata": {
  "kernelspec": {
   "display_name": "Python 3",
   "language": "python",
   "name": "python3"
  },
  "language_info": {
   "codemirror_mode": {
    "name": "ipython",
    "version": 3
   },
   "file_extension": ".py",
   "mimetype": "text/x-python",
   "name": "python",
   "nbconvert_exporter": "python",
   "pygments_lexer": "ipython3",
   "version": "3.7.4"
  }
 },
 "nbformat": 4,
 "nbformat_minor": 5
}
